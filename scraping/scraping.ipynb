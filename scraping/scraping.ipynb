{
 "cells": [
  {
   "cell_type": "code",
   "execution_count": 15,
   "metadata": {},
   "outputs": [
    {
     "name": "stdout",
     "output_type": "stream",
     "text": [
      "\u001b[1m\u001b[22m\n",
      "\u001b[1mWelcome to the Twitter Crawler 🕷️\u001b[22m\n",
      "\u001b[1m\u001b[22m\n",
      "This script uses Chromium Browser to crawl data from Twitter with *your* Twitter auth token.\n",
      "Please enter your Twitter auth token when prompted.\n",
      "\n",
      "Note: Keep your access token secret! Don't share it with anyone else.\n",
      "Note: This script only runs on your local device.\n",
      "\n",
      "\u001b[K\u001b[?25hm#########\u001b[0m\u001b[100;90m⠂⠂⠂⠂⠂⠂⠂⠂⠂\u001b[0m) ⠏ idealTree: \u001b[32;40mtiming\u001b[0m \u001b[35midealTree\u001b[0m Completed in 1409ms\u001b[0m\u001b[K\n",
      "up to date, audited 5 packages in 2s\n",
      "\n",
      "found \u001b[32m\u001b[1m0\u001b[22m\u001b[39m vulnerabilities\n",
      "\u001b[34m\u001b[39m\n",
      "\u001b[34mOpening twitter search page...\u001b[39m\n",
      "\u001b[34m\u001b[39m\n",
      "\u001b[33m\u001b[39m\n",
      "\u001b[33mFilling in keywords: presiden lang:id until:2024-03-03 since:2024-01-01\u001b[39m\n",
      "\u001b[33m\u001b[39m\n",
      "\u001b[34m\u001b[39m\n",
      "\u001b[34mGot some tweets, saving to file...\u001b[39m\n",
      "\u001b[34mYour tweets saved to: /Users/fauzanghaza/Coding/BCC/baru/SocialMediaSentiment/scraping/tweets-data/presiden2024.csv\u001b[39m\n",
      "\u001b[33mTotal tweets saved: 13\u001b[39m\n",
      "Already got 13 tweets, done scrolling...\n"
     ]
    }
   ],
   "source": [
    "# Crawl Data\n",
    "\n",
    "filename = 'presiden2024.csv'\n",
    "search_keyword = 'presiden lang:id until:2024-03-03 since:2024-01-01'\n",
    "limit = 10\n",
    "\n",
    "!npx --yes tweet-harvest@2.2.8 -o \"{filename}\" -s \"{search_keyword}\" -l {limit} --token \"e86c75a74e5ff1dcf5b1dd27e1aa2b240910cd2b\""
   ]
  },
  {
   "cell_type": "code",
   "execution_count": null,
   "metadata": {},
   "outputs": [
    {
     "name": "stderr",
     "output_type": "stream",
     "text": [
      "/var/folders/4f/xq7119ld627_2wyd6dkmwl0m0000gn/T/ipykernel_68194/4193918447.py:1: DeprecationWarning: \n",
      "Pyarrow will become a required dependency of pandas in the next major release of pandas (pandas 3.0),\n",
      "(to allow more performant data types, such as the Arrow string type, and better interoperability with other libraries)\n",
      "but was not found to be installed on your system.\n",
      "If this would cause problems for you,\n",
      "please provide us feedback at https://github.com/pandas-dev/pandas/issues/54466\n",
      "        \n",
      "  import pandas as pd\n"
     ]
    }
   ],
   "source": [
    "import pandas as pd\n",
    "import numpy as np\n",
    "import re\n",
    "from nltk.corpus import stopwords\n",
    "from nltk.stem.porter import PorterStemmer"
   ]
  },
  {
   "cell_type": "code",
   "execution_count": 12,
   "metadata": {},
   "outputs": [
    {
     "data": {
      "text/html": [
       "<div>\n",
       "<style scoped>\n",
       "    .dataframe tbody tr th:only-of-type {\n",
       "        vertical-align: middle;\n",
       "    }\n",
       "\n",
       "    .dataframe tbody tr th {\n",
       "        vertical-align: top;\n",
       "    }\n",
       "\n",
       "    .dataframe thead th {\n",
       "        text-align: right;\n",
       "    }\n",
       "</style>\n",
       "<table border=\"1\" class=\"dataframe\">\n",
       "  <thead>\n",
       "    <tr style=\"text-align: right;\">\n",
       "      <th></th>\n",
       "      <th>full_text</th>\n",
       "    </tr>\n",
       "  </thead>\n",
       "  <tbody>\n",
       "    <tr>\n",
       "      <th>0</th>\n",
       "      <td>@aftomune @DumTakTak04 @anonjawa @jokowi @Rcyb...</td>\n",
       "    </tr>\n",
       "    <tr>\n",
       "      <th>1</th>\n",
       "      <td>@0_628s Bangun, Anis jadi presiden wkwkwk</td>\n",
       "    </tr>\n",
       "    <tr>\n",
       "      <th>2</th>\n",
       "      <td>@OposisiCerdas Krn ada anak presiden, sodarany...</td>\n",
       "    </tr>\n",
       "    <tr>\n",
       "      <th>3</th>\n",
       "      <td>@kekasihgelappmu Pak presiden @jokowi kami lag...</td>\n",
       "    </tr>\n",
       "    <tr>\n",
       "      <th>4</th>\n",
       "      <td>nabil cancer gua scorpio   jadi udh tau lah ya...</td>\n",
       "    </tr>\n",
       "  </tbody>\n",
       "</table>\n",
       "</div>"
      ],
      "text/plain": [
       "                                           full_text\n",
       "0  @aftomune @DumTakTak04 @anonjawa @jokowi @Rcyb...\n",
       "1          @0_628s Bangun, Anis jadi presiden wkwkwk\n",
       "2  @OposisiCerdas Krn ada anak presiden, sodarany...\n",
       "3  @kekasihgelappmu Pak presiden @jokowi kami lag...\n",
       "4  nabil cancer gua scorpio   jadi udh tau lah ya..."
      ]
     },
     "execution_count": 12,
     "metadata": {},
     "output_type": "execute_result"
    }
   ],
   "source": [
    "import pandas as pd\n",
    "\n",
    "# Specify the path to your CSV file\n",
    "file_path = f\"tweets-data/{filename}\"\n",
    "\n",
    "# Read the CSV file into a pandas DataFrame\n",
    "df = pd.read_csv(file_path, delimiter=\";\")\n",
    "\n",
    "# Display the DataFrame\n",
    "df = df[['full_text']]\n",
    "df.head()"
   ]
  },
  {
   "cell_type": "code",
   "execution_count": 13,
   "metadata": {},
   "outputs": [
    {
     "name": "stderr",
     "output_type": "stream",
     "text": [
      "[nltk_data] Downloading package stopwords to\n",
      "[nltk_data]     /Users/fauzanghaza/nltk_data...\n",
      "[nltk_data]   Package stopwords is already up-to-date!\n"
     ]
    },
    {
     "data": {
      "text/plain": [
       "True"
      ]
     },
     "execution_count": 13,
     "metadata": {},
     "output_type": "execute_result"
    }
   ],
   "source": [
    "import nltk\n",
    "nltk.download('stopwords')"
   ]
  },
  {
   "cell_type": "code",
   "execution_count": null,
   "metadata": {},
   "outputs": [],
   "source": [
    "port_stem = PorterStemmer()"
   ]
  },
  {
   "cell_type": "code",
   "execution_count": null,
   "metadata": {},
   "outputs": [],
   "source": [
    "def remove_tag(content):\n",
    "    stemmed = content.split()\n",
    "    stemmed = [word for word in stemmed if not '@' in word]\n",
    "    stemmed = ' '.join(stemmed)\n",
    "    return stemmed"
   ]
  },
  {
   "cell_type": "code",
   "execution_count": null,
   "metadata": {},
   "outputs": [],
   "source": [
    "df['no_tag'] = df['full_text'].apply(remove_tag)"
   ]
  },
  {
   "cell_type": "code",
   "execution_count": null,
   "metadata": {},
   "outputs": [],
   "source": [
    "\n",
    "def stemming(content):\n",
    "    stemmed = re.sub('[^a-zA-Z]',' ',content)\n",
    "    stemmed = stemmed.lower()\n",
    "    stemmed = stemmed.split()\n",
    "    stemmed = [port_stem.stem(word) for word in stemmed if not word in stopwords.words('indonesian')]\n",
    "    stemmed = ' '.join(stemmed)\n",
    "    return stemmed"
   ]
  },
  {
   "cell_type": "code",
   "execution_count": null,
   "metadata": {},
   "outputs": [],
   "source": [
    "df['stemmed'] = df['no_tag'].apply(stemming)"
   ]
  },
  {
   "cell_type": "code",
   "execution_count": null,
   "metadata": {},
   "outputs": [
    {
     "data": {
      "text/html": [
       "<div>\n",
       "<style scoped>\n",
       "    .dataframe tbody tr th:only-of-type {\n",
       "        vertical-align: middle;\n",
       "    }\n",
       "\n",
       "    .dataframe tbody tr th {\n",
       "        vertical-align: top;\n",
       "    }\n",
       "\n",
       "    .dataframe thead th {\n",
       "        text-align: right;\n",
       "    }\n",
       "</style>\n",
       "<table border=\"1\" class=\"dataframe\">\n",
       "  <thead>\n",
       "    <tr style=\"text-align: right;\">\n",
       "      <th></th>\n",
       "      <th>full_text</th>\n",
       "      <th>no_tag</th>\n",
       "      <th>stemmed</th>\n",
       "    </tr>\n",
       "  </thead>\n",
       "  <tbody>\n",
       "    <tr>\n",
       "      <th>0</th>\n",
       "      <td>@aftomune @DumTakTak04 @anonjawa @jokowi @Rcyb...</td>\n",
       "      <td>Buset mbak.. Presiden loh itu..</td>\n",
       "      <td>buset mbak presiden loh</td>\n",
       "    </tr>\n",
       "    <tr>\n",
       "      <th>1</th>\n",
       "      <td>@0_628s Bangun, Anis jadi presiden wkwkwk</td>\n",
       "      <td>Bangun, Anis jadi presiden wkwkwk</td>\n",
       "      <td>bangun ani presiden wkwkwk</td>\n",
       "    </tr>\n",
       "    <tr>\n",
       "      <th>2</th>\n",
       "      <td>@OposisiCerdas Krn ada anak presiden, sodarany...</td>\n",
       "      <td>Krn ada anak presiden, sodaranya cawapres 02 &amp;...</td>\n",
       "      <td>krn anak presiden sodaranya cawapr amp ponakan...</td>\n",
       "    </tr>\n",
       "    <tr>\n",
       "      <th>3</th>\n",
       "      <td>@kekasihgelappmu Pak presiden @jokowi kami lag...</td>\n",
       "      <td>Pak presiden kami lagi gabut ni ga tau mau nga...</td>\n",
       "      <td>presiden gabut ni ga tau ngapain saran gak lak...</td>\n",
       "    </tr>\n",
       "    <tr>\n",
       "      <th>4</th>\n",
       "      <td>nabil cancer gua scorpio   jadi udh tau lah ya...</td>\n",
       "      <td>nabil cancer gua scorpio jadi udh tau lah yaa....</td>\n",
       "      <td>nabil cancer gua scorpio udh tau yaa kalo gelu...</td>\n",
       "    </tr>\n",
       "    <tr>\n",
       "      <th>...</th>\n",
       "      <td>...</td>\n",
       "      <td>...</td>\n",
       "      <td>...</td>\n",
       "    </tr>\n",
       "    <tr>\n",
       "      <th>197</th>\n",
       "      <td>@tubirfess Kakekku presiden bapakku wakil pres...</td>\n",
       "      <td>Kakekku presiden bapakku wakil presiden terus ...</td>\n",
       "      <td>kakekku presiden bapakku wakil presiden omnya ...</td>\n",
       "    </tr>\n",
       "    <tr>\n",
       "      <th>198</th>\n",
       "      <td>@AK__aja Tapi Beliau Sukses jadi Presiden 2 Pe...</td>\n",
       "      <td>Tapi Beliau Sukses jadi Presiden 2 Periode Gak...</td>\n",
       "      <td>beliau suks presiden period gak lawan</td>\n",
       "    </tr>\n",
       "    <tr>\n",
       "      <th>199</th>\n",
       "      <td>Atur aja pak @jokowi. Negara suka-suka preside...</td>\n",
       "      <td>Atur aja pak Negara suka-suka presiden kok ya.</td>\n",
       "      <td>atur aja negara suka suka presiden ya</td>\n",
       "    </tr>\n",
       "    <tr>\n",
       "      <th>200</th>\n",
       "      <td>@AraituLaki Yg bakalan pd setres itu pendukung...</td>\n",
       "      <td>Yg bakalan pd setres itu pendukung 01, jujunga...</td>\n",
       "      <td>yg pd setr pendukung jujunganya ga presiden</td>\n",
       "    </tr>\n",
       "    <tr>\n",
       "      <th>201</th>\n",
       "      <td>10. Entrok 8/10  latar waktu ceritanya tahun 6...</td>\n",
       "      <td>10. Entrok 8/10 latar waktu ceritanya tahun 60...</td>\n",
       "      <td>entrok latar ceritanya an jaman presiden bende...</td>\n",
       "    </tr>\n",
       "  </tbody>\n",
       "</table>\n",
       "<p>202 rows × 3 columns</p>\n",
       "</div>"
      ],
      "text/plain": [
       "                                             full_text  \\\n",
       "0    @aftomune @DumTakTak04 @anonjawa @jokowi @Rcyb...   \n",
       "1            @0_628s Bangun, Anis jadi presiden wkwkwk   \n",
       "2    @OposisiCerdas Krn ada anak presiden, sodarany...   \n",
       "3    @kekasihgelappmu Pak presiden @jokowi kami lag...   \n",
       "4    nabil cancer gua scorpio   jadi udh tau lah ya...   \n",
       "..                                                 ...   \n",
       "197  @tubirfess Kakekku presiden bapakku wakil pres...   \n",
       "198  @AK__aja Tapi Beliau Sukses jadi Presiden 2 Pe...   \n",
       "199  Atur aja pak @jokowi. Negara suka-suka preside...   \n",
       "200  @AraituLaki Yg bakalan pd setres itu pendukung...   \n",
       "201  10. Entrok 8/10  latar waktu ceritanya tahun 6...   \n",
       "\n",
       "                                                no_tag  \\\n",
       "0                      Buset mbak.. Presiden loh itu..   \n",
       "1                    Bangun, Anis jadi presiden wkwkwk   \n",
       "2    Krn ada anak presiden, sodaranya cawapres 02 &...   \n",
       "3    Pak presiden kami lagi gabut ni ga tau mau nga...   \n",
       "4    nabil cancer gua scorpio jadi udh tau lah yaa....   \n",
       "..                                                 ...   \n",
       "197  Kakekku presiden bapakku wakil presiden terus ...   \n",
       "198  Tapi Beliau Sukses jadi Presiden 2 Periode Gak...   \n",
       "199     Atur aja pak Negara suka-suka presiden kok ya.   \n",
       "200  Yg bakalan pd setres itu pendukung 01, jujunga...   \n",
       "201  10. Entrok 8/10 latar waktu ceritanya tahun 60...   \n",
       "\n",
       "                                               stemmed  \n",
       "0                              buset mbak presiden loh  \n",
       "1                           bangun ani presiden wkwkwk  \n",
       "2    krn anak presiden sodaranya cawapr amp ponakan...  \n",
       "3    presiden gabut ni ga tau ngapain saran gak lak...  \n",
       "4    nabil cancer gua scorpio udh tau yaa kalo gelu...  \n",
       "..                                                 ...  \n",
       "197  kakekku presiden bapakku wakil presiden omnya ...  \n",
       "198              beliau suks presiden period gak lawan  \n",
       "199              atur aja negara suka suka presiden ya  \n",
       "200        yg pd setr pendukung jujunganya ga presiden  \n",
       "201  entrok latar ceritanya an jaman presiden bende...  \n",
       "\n",
       "[202 rows x 3 columns]"
      ]
     },
     "execution_count": 10,
     "metadata": {},
     "output_type": "execute_result"
    }
   ],
   "source": [
    "df"
   ]
  }
 ],
 "metadata": {
  "kernelspec": {
   "display_name": "bismillah",
   "language": "python",
   "name": "python3"
  },
  "language_info": {
   "codemirror_mode": {
    "name": "ipython",
    "version": 3
   },
   "file_extension": ".py",
   "mimetype": "text/x-python",
   "name": "python",
   "nbconvert_exporter": "python",
   "pygments_lexer": "ipython3",
   "version": "3.10.13"
  }
 },
 "nbformat": 4,
 "nbformat_minor": 2
}
