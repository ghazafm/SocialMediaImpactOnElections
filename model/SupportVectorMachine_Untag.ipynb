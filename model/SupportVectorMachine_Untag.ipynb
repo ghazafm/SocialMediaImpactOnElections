{
 "cells": [
  {
   "cell_type": "markdown",
   "metadata": {},
   "source": [
    "# Dataframe"
   ]
  },
  {
   "cell_type": "code",
   "execution_count": 1,
   "metadata": {},
   "outputs": [],
   "source": [
    "import pandas as pd\n",
    "import numpy as np\n",
    "df = pd.read_csv('https://raw.githubusercontent.com/ghazafm/SocialMediaSentiment/main/preprocessing/Training/data/clean/regular/gabungan.csv')\n",
    "df = df.dropna()"
   ]
  },
  {
   "cell_type": "code",
   "execution_count": 2,
   "metadata": {},
   "outputs": [
    {
     "data": {
      "text/html": [
       "<div>\n",
       "<style scoped>\n",
       "    .dataframe tbody tr th:only-of-type {\n",
       "        vertical-align: middle;\n",
       "    }\n",
       "\n",
       "    .dataframe tbody tr th {\n",
       "        vertical-align: top;\n",
       "    }\n",
       "\n",
       "    .dataframe thead th {\n",
       "        text-align: right;\n",
       "    }\n",
       "</style>\n",
       "<table border=\"1\" class=\"dataframe\">\n",
       "  <thead>\n",
       "    <tr style=\"text-align: right;\">\n",
       "      <th></th>\n",
       "      <th>Tweet</th>\n",
       "      <th>label</th>\n",
       "      <th>no_alay</th>\n",
       "      <th>clean_manual</th>\n",
       "      <th>stemmed</th>\n",
       "      <th>no_stopwords</th>\n",
       "    </tr>\n",
       "  </thead>\n",
       "  <tbody>\n",
       "    <tr>\n",
       "      <th>0</th>\n",
       "      <td>info  anies presiden</td>\n",
       "      <td>Positive</td>\n",
       "      <td>info anies presiden</td>\n",
       "      <td>info</td>\n",
       "      <td>info</td>\n",
       "      <td>info</td>\n",
       "    </tr>\n",
       "    <tr>\n",
       "      <th>1</th>\n",
       "      <td>politisi partai gerindra sandiaga uno menjawab...</td>\n",
       "      <td>Positive</td>\n",
       "      <td>politisi partai gerindra sandiaga uno menjawab...</td>\n",
       "      <td>politisi menjawab soal diduetkan kembali denga...</td>\n",
       "      <td>politis jawab soal duet kembali dengan mantan ...</td>\n",
       "      <td>politis jawab soal duet dengan mantan dki jaka...</td>\n",
       "    </tr>\n",
       "    <tr>\n",
       "      <th>2</th>\n",
       "      <td>lanjut pak anies kita kawal sampai jadi presiden</td>\n",
       "      <td>Positive</td>\n",
       "      <td>lanjut pak anies kita kawal sampai jadi presiden</td>\n",
       "      <td>lanjut pak kita kawal sampai</td>\n",
       "      <td>lanjut pak kita kawal sampai</td>\n",
       "      <td>lanjut pak kawal</td>\n",
       "    </tr>\n",
       "    <tr>\n",
       "      <th>3</th>\n",
       "      <td>semoga allah swt menyelamatkan bangsa dan nega...</td>\n",
       "      <td>Positive</td>\n",
       "      <td>semoga allah swt menyelamatkan bangsa dan nega...</td>\n",
       "      <td>swt menyelamatkan bangsa dan negara republik d...</td>\n",
       "      <td>swt selamat bangsa dan negara republik dari pa...</td>\n",
       "      <td>swt selamat bangsa negara republik para penghi...</td>\n",
       "    </tr>\n",
       "    <tr>\n",
       "      <th>4</th>\n",
       "      <td>chotimah kasian ya pa anies makanya sudah teka...</td>\n",
       "      <td>Positive</td>\n",
       "      <td>chotimah kasihan ya apa anies makanya sudah te...</td>\n",
       "      <td>kasihan ya makanya sudah tekad keluarga saya</td>\n",
       "      <td>kasihan ya makanya sudah tekad keluarga saya</td>\n",
       "      <td>kasihan makanya tekad keluarga</td>\n",
       "    </tr>\n",
       "    <tr>\n",
       "      <th>...</th>\n",
       "      <td>...</td>\n",
       "      <td>...</td>\n",
       "      <td>...</td>\n",
       "      <td>...</td>\n",
       "      <td>...</td>\n",
       "      <td>...</td>\n",
       "    </tr>\n",
       "    <tr>\n",
       "      <th>24713</th>\n",
       "      <td>pa ganjar pranowo nex presiden indonesia</td>\n",
       "      <td>Negative</td>\n",
       "      <td>apa ganjar pranowo nex presiden indonesia</td>\n",
       "      <td>nex</td>\n",
       "      <td>nex</td>\n",
       "      <td>nex</td>\n",
       "    </tr>\n",
       "    <tr>\n",
       "      <th>24714</th>\n",
       "      <td>rt ganjaristdltras ganjarist deltras jatim sia...</td>\n",
       "      <td>Negative</td>\n",
       "      <td>rt ganjaristdltras ganjarist deltras jatim sia...</td>\n",
       "      <td>rt ganjaristdltras ganjarist deltras jatim siap</td>\n",
       "      <td>rt ganjaristdltras ganjarist deltras jatim siap</td>\n",
       "      <td>rt ganjaristdltras ganjarist deltras jatim siap</td>\n",
       "    </tr>\n",
       "    <tr>\n",
       "      <th>24715</th>\n",
       "      <td>artinya ganjar pranowo presiden</td>\n",
       "      <td>Negative</td>\n",
       "      <td>artinya ganjar pranowo presiden</td>\n",
       "      <td>artinya</td>\n",
       "      <td>arti</td>\n",
       "      <td>arti</td>\n",
       "    </tr>\n",
       "    <tr>\n",
       "      <th>24716</th>\n",
       "      <td>semakin banyak rakyat yang siap mendukung ganj...</td>\n",
       "      <td>Negative</td>\n",
       "      <td>semakin banyak rakyat yang siap mendukung ganj...</td>\n",
       "      <td>semakin yang siap untuk sebagai ke selamat ula...</td>\n",
       "      <td>makin yang siap untuk bagai ke selamat ulang p...</td>\n",
       "      <td>makin siap bagai selamat ulang pak tuhan</td>\n",
       "    </tr>\n",
       "    <tr>\n",
       "      <th>24717</th>\n",
       "      <td>selamat hari penerbangan nasional oktober terb...</td>\n",
       "      <td>Negative</td>\n",
       "      <td>selamat hari penerbangan nasional oktober terb...</td>\n",
       "      <td>selamat penerbangan nasional oktober terbangla...</td>\n",
       "      <td>selamat terbang nasional oktober terbang tingg...</td>\n",
       "      <td>selamat terbang nasional oktober terbang tingg...</td>\n",
       "    </tr>\n",
       "  </tbody>\n",
       "</table>\n",
       "<p>24384 rows × 6 columns</p>\n",
       "</div>"
      ],
      "text/plain": [
       "                                                   Tweet     label  \\\n",
       "0                                   info  anies presiden  Positive   \n",
       "1      politisi partai gerindra sandiaga uno menjawab...  Positive   \n",
       "2       lanjut pak anies kita kawal sampai jadi presiden  Positive   \n",
       "3      semoga allah swt menyelamatkan bangsa dan nega...  Positive   \n",
       "4      chotimah kasian ya pa anies makanya sudah teka...  Positive   \n",
       "...                                                  ...       ...   \n",
       "24713           pa ganjar pranowo nex presiden indonesia  Negative   \n",
       "24714  rt ganjaristdltras ganjarist deltras jatim sia...  Negative   \n",
       "24715                    artinya ganjar pranowo presiden  Negative   \n",
       "24716  semakin banyak rakyat yang siap mendukung ganj...  Negative   \n",
       "24717  selamat hari penerbangan nasional oktober terb...  Negative   \n",
       "\n",
       "                                                 no_alay  \\\n",
       "0                                    info anies presiden   \n",
       "1      politisi partai gerindra sandiaga uno menjawab...   \n",
       "2       lanjut pak anies kita kawal sampai jadi presiden   \n",
       "3      semoga allah swt menyelamatkan bangsa dan nega...   \n",
       "4      chotimah kasihan ya apa anies makanya sudah te...   \n",
       "...                                                  ...   \n",
       "24713          apa ganjar pranowo nex presiden indonesia   \n",
       "24714  rt ganjaristdltras ganjarist deltras jatim sia...   \n",
       "24715                    artinya ganjar pranowo presiden   \n",
       "24716  semakin banyak rakyat yang siap mendukung ganj...   \n",
       "24717  selamat hari penerbangan nasional oktober terb...   \n",
       "\n",
       "                                            clean_manual  \\\n",
       "0                                                   info   \n",
       "1      politisi menjawab soal diduetkan kembali denga...   \n",
       "2                           lanjut pak kita kawal sampai   \n",
       "3      swt menyelamatkan bangsa dan negara republik d...   \n",
       "4           kasihan ya makanya sudah tekad keluarga saya   \n",
       "...                                                  ...   \n",
       "24713                                                nex   \n",
       "24714    rt ganjaristdltras ganjarist deltras jatim siap   \n",
       "24715                                            artinya   \n",
       "24716  semakin yang siap untuk sebagai ke selamat ula...   \n",
       "24717  selamat penerbangan nasional oktober terbangla...   \n",
       "\n",
       "                                                 stemmed  \\\n",
       "0                                                   info   \n",
       "1      politis jawab soal duet kembali dengan mantan ...   \n",
       "2                           lanjut pak kita kawal sampai   \n",
       "3      swt selamat bangsa dan negara republik dari pa...   \n",
       "4           kasihan ya makanya sudah tekad keluarga saya   \n",
       "...                                                  ...   \n",
       "24713                                                nex   \n",
       "24714    rt ganjaristdltras ganjarist deltras jatim siap   \n",
       "24715                                               arti   \n",
       "24716  makin yang siap untuk bagai ke selamat ulang p...   \n",
       "24717  selamat terbang nasional oktober terbang tingg...   \n",
       "\n",
       "                                            no_stopwords  \n",
       "0                                                   info  \n",
       "1      politis jawab soal duet dengan mantan dki jaka...  \n",
       "2                                       lanjut pak kawal  \n",
       "3      swt selamat bangsa negara republik para penghi...  \n",
       "4                         kasihan makanya tekad keluarga  \n",
       "...                                                  ...  \n",
       "24713                                                nex  \n",
       "24714    rt ganjaristdltras ganjarist deltras jatim siap  \n",
       "24715                                               arti  \n",
       "24716           makin siap bagai selamat ulang pak tuhan  \n",
       "24717  selamat terbang nasional oktober terbang tingg...  \n",
       "\n",
       "[24384 rows x 6 columns]"
      ]
     },
     "execution_count": 2,
     "metadata": {},
     "output_type": "execute_result"
    }
   ],
   "source": [
    "df"
   ]
  },
  {
   "cell_type": "markdown",
   "metadata": {},
   "source": [
    "# Function"
   ]
  },
  {
   "cell_type": "code",
   "execution_count": 3,
   "metadata": {},
   "outputs": [],
   "source": [
    "# label encoder\n",
    "def label_encoder(y):\n",
    "    from sklearn.preprocessing import LabelEncoder\n",
    "    le = LabelEncoder()\n",
    "    y = le.fit_transform(y)\n",
    "    return y\n",
    "\n",
    "# under dan over sampling\n",
    "def undersampling(x, y):\n",
    "    from imblearn.under_sampling import RandomUnderSampler\n",
    "    rus = RandomUnderSampler()\n",
    "    x, y = rus.fit_resample(x.values.reshape(-1,1),y)\n",
    "    x = x.flatten()\n",
    "    return x, y\n",
    "\n",
    "def oversampling(x, y):\n",
    "    from imblearn.over_sampling import RandomOverSampler\n",
    "    ros = RandomOverSampler()\n",
    "    x, y = ros.fit_resample(x.values.reshape(-1,1),y)\n",
    "    x = x.flatten()\n",
    "    return x, y\n",
    "\n",
    "# train test split\n",
    "def bagi_data(x, y):\n",
    "    from sklearn.model_selection import train_test_split\n",
    "    x_train, x_test, y_train, y_test = train_test_split(x,y, test_size=0.2, random_state=2)\n",
    "    return x_train, x_test, y_train, y_test\n",
    "\n",
    "# cetak csv\n",
    "def cetak_csv(data):\n",
    "    data.to_csv('name.csv')\n",
    "\n",
    "# Vectorizing\n",
    "def tfidf_vec(x_train, x_test):\n",
    "    from sklearn.feature_extraction.text import TfidfVectorizer\n",
    "    vectorizer = TfidfVectorizer()\n",
    "    x_train = vectorizer.fit_transform(x_train)\n",
    "    x_test = vectorizer.transform(x_test)\n",
    "    return x_train, x_test\n",
    "\n",
    "def count_vec(x_train, x_test):\n",
    "    from sklearn.feature_extraction.text import CountVectorizer\n",
    "    vectorizer = CountVectorizer()\n",
    "    x_train = vectorizer.fit_transform(x_train)\n",
    "    x_test = vectorizer.transform(x_test)\n",
    "    return x_train, x_test\n",
    "\n",
    "# Accuracy Score\n",
    "def accuracy_score(y_test, y_pred):\n",
    "    from sklearn.metrics import accuracy_score\n",
    "    \n",
    "    accuracy = accuracy_score(y_test, y_pred)\n",
    "    return accuracy\n",
    "\n",
    "def f1_score_pos(x):\n",
    "    from sklearn.metrics import f1_score\n",
    "    f1 = f1_score(x,pos_label='Positive')\n",
    "    return f1\n",
    "def f1_score_neg(x):\n",
    "    from sklearn.metrics import f1_score\n",
    "    f1 = f1_score(x,pos_label='Negative')\n",
    "    return f1\n",
    "\n",
    "def precission_pos(x):\n",
    "    from sklearn.metrics import precision_score\n",
    "    precision = precision_score(x,pos_label='Positive')\n",
    "    return precision\n",
    "\n",
    "def precission_neg(x):\n",
    "    from sklearn.metrics import precision_score\n",
    "    precision = precision_score(x,pos_label='Negative')\n",
    "    return precision\n",
    "\n",
    "def recall_pos(x):\n",
    "    from sklearn.metrics import recall_score\n",
    "    recall = recall_score(x,'Positive')\n",
    "    return recall\n",
    "\n",
    "def recall_neg(x):\n",
    "    from sklearn.metrics import recall_score\n",
    "    recall = recall_score(x,'Negative')\n",
    "    return recall\n",
    "\n",
    "def all_report (x,y):\n",
    "    from sklearn.metrics import classification_report\n",
    "    report = classification_report(x,y)\n",
    "    return report\n",
    "\n",
    "\n",
    "\n"
   ]
  },
  {
   "cell_type": "markdown",
   "metadata": {},
   "source": [
    "# splitting & under sampling"
   ]
  },
  {
   "cell_type": "code",
   "execution_count": 4,
   "metadata": {},
   "outputs": [
    {
     "data": {
      "text/plain": [
       "label\n",
       "Negative    8770\n",
       "Positive    8770\n",
       "Name: count, dtype: int64"
      ]
     },
     "execution_count": 4,
     "metadata": {},
     "output_type": "execute_result"
    }
   ],
   "source": [
    "x = df['clean_manual']\n",
    "y = df['label']\n",
    "\n",
    "x, y = undersampling(x, y)\n",
    "\n",
    "x_train, x_test, y_train, y_test = bagi_data(x, y)\n",
    "\n",
    "y.value_counts()\n",
    "\n"
   ]
  },
  {
   "cell_type": "markdown",
   "metadata": {},
   "source": [
    "# TF-idf vectorizing"
   ]
  },
  {
   "cell_type": "code",
   "execution_count": 5,
   "metadata": {},
   "outputs": [],
   "source": [
    "x_train, x_test = tfidf_vec(x_train, x_test)"
   ]
  },
  {
   "cell_type": "markdown",
   "metadata": {},
   "source": [
    "# Modeling"
   ]
  },
  {
   "cell_type": "code",
   "execution_count": 6,
   "metadata": {},
   "outputs": [],
   "source": [
    "\n",
    "from sklearn.svm import SVC\n",
    "from sklearn.metrics import accuracy_score\n",
    "svm_classifier = SVC(kernel='linear', random_state=42)\n",
    "\n",
    "svm_classifier.fit(x_train, y_train)\n",
    "\n",
    "y_pred = svm_classifier.predict(x_test)"
   ]
  },
  {
   "cell_type": "markdown",
   "metadata": {},
   "source": [
    "# Score Support Vector Machine untag"
   ]
  },
  {
   "cell_type": "code",
   "execution_count": 7,
   "metadata": {},
   "outputs": [
    {
     "name": "stdout",
     "output_type": "stream",
     "text": [
      "              precision    recall  f1-score   support\n",
      "\n",
      "    Negative       0.57      0.58      0.57      1708\n",
      "    Positive       0.59      0.58      0.59      1800\n",
      "\n",
      "    accuracy                           0.58      3508\n",
      "   macro avg       0.58      0.58      0.58      3508\n",
      "weighted avg       0.58      0.58      0.58      3508\n",
      "\n"
     ]
    }
   ],
   "source": [
    "print(all_report(y_test, y_pred))"
   ]
  },
  {
   "cell_type": "code",
   "execution_count": 8,
   "metadata": {},
   "outputs": [
    {
     "name": "stdout",
     "output_type": "stream",
     "text": [
      "F1 Score: 0.5744125326370757\n"
     ]
    }
   ],
   "source": [
    "from sklearn.metrics import f1_score\n",
    "\n",
    "# Menghitung F1-score dengan label positif \"1\"\n",
    "f1 = f1_score(y_test, y_pred, pos_label='Negative')\n",
    "\n",
    "# Mencetak hasil\n",
    "print(\"F1 Score:\", f1)\n"
   ]
  }
 ],
 "metadata": {
  "kernelspec": {
   "display_name": "Python 3",
   "language": "python",
   "name": "python3"
  },
  "language_info": {
   "codemirror_mode": {
    "name": "ipython",
    "version": 3
   },
   "file_extension": ".py",
   "mimetype": "text/x-python",
   "name": "python",
   "nbconvert_exporter": "python",
   "pygments_lexer": "ipython3",
   "version": "3.11.8"
  },
  "orig_nbformat": 4
 },
 "nbformat": 4,
 "nbformat_minor": 2
}
