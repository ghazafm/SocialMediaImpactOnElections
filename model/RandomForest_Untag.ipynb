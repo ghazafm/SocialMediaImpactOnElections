{
 "cells": [
  {
   "cell_type": "markdown",
   "metadata": {},
   "source": [
    "# Dataframe"
   ]
  },
  {
   "cell_type": "code",
   "execution_count": 8,
   "metadata": {},
   "outputs": [],
   "source": [
    "import pandas as pd\n",
    "import numpy as np\n",
    "df = pd.read_csv('https://raw.githubusercontent.com/ghazafm/SocialMediaSentiment/main/preprocessing/Training/data/clean/regular/gabungan.csv')\n",
    "df = df.dropna()"
   ]
  },
  {
   "cell_type": "markdown",
   "metadata": {},
   "source": [
    "# Function"
   ]
  },
  {
   "cell_type": "code",
   "execution_count": 9,
   "metadata": {},
   "outputs": [],
   "source": [
    "# label encoder\n",
    "def label_encoder(y):\n",
    "    from sklearn.preprocessing import LabelEncoder\n",
    "    le = LabelEncoder()\n",
    "    y = le.fit_transform(y)\n",
    "    return y\n",
    "\n",
    "# under dan over sampling\n",
    "def undersampling(x, y):\n",
    "    from imblearn.under_sampling import RandomUnderSampler\n",
    "    rus = RandomUnderSampler()\n",
    "    x, y = rus.fit_resample(x.values.reshape(-1,1),y)\n",
    "    x = x.flatten()\n",
    "    return x, y\n",
    "\n",
    "def oversampling(x, y):\n",
    "    from imblearn.over_sampling import RandomOverSampler\n",
    "    ros = RandomOverSampler()\n",
    "    x, y = ros.fit_resample(x.values.reshape(-1,1),y)\n",
    "    x = x.flatten()\n",
    "    return x, y\n",
    "\n",
    "# train test split\n",
    "def bagi_data(x, y):\n",
    "    from sklearn.model_selection import train_test_split\n",
    "    x_train, x_test, y_train, y_test = train_test_split(x,y, test_size=0.2, random_state=2)\n",
    "    return x_train, x_test, y_train, y_test\n",
    "\n",
    "# cetak csv\n",
    "def cetak_csv(data):\n",
    "    data.to_csv('name.csv')\n",
    "\n",
    "# Vectorizing\n",
    "def tfidf_vec(x_train, x_test):\n",
    "    from sklearn.feature_extraction.text import TfidfVectorizer\n",
    "    vectorizer = TfidfVectorizer()\n",
    "    x_train = vectorizer.fit_transform(x_train)\n",
    "    x_test = vectorizer.transform(x_test)\n",
    "    return x_train, x_test\n",
    "\n",
    "def count_vec(x_train, x_test):\n",
    "    from sklearn.feature_extraction.text import CountVectorizer\n",
    "    vectorizer = CountVectorizer()\n",
    "    x_train = vectorizer.fit_transform(x_train)\n",
    "    x_test = vectorizer.transform(x_test)\n",
    "    return x_train, x_test\n",
    "\n",
    "# Accuracy Score\n",
    "def accuracy_score(y_test, y_pred):\n",
    "    from sklearn.metrics import accuracy_score\n",
    "    \n",
    "    accuracy = accuracy_score(y_test, y_pred)\n",
    "    return accuracy\n",
    "\n",
    "def f1_score_pos(x):\n",
    "    from sklearn.metrics import f1_score\n",
    "    f1 = f1_score(x,pos_label='Positive')\n",
    "    return f1\n",
    "def f1_score_neg(x):\n",
    "    from sklearn.metrics import f1_score\n",
    "    f1 = f1_score(x,pos_label='Negative')\n",
    "    return f1\n",
    "\n",
    "def precission_pos(x):\n",
    "    from sklearn.metrics import precision_score\n",
    "    precision = precision_score(x,pos_label='Positive')\n",
    "    return precision\n",
    "\n",
    "def precission_neg(x):\n",
    "    from sklearn.metrics import precision_score\n",
    "    precision = precision_score(x,pos_label='Negative')\n",
    "    return precision\n",
    "\n",
    "def recall_pos(x):\n",
    "    from sklearn.metrics import recall_score\n",
    "    recall = recall_score(x,'Positive')\n",
    "    return recall\n",
    "\n",
    "def recall_neg(x):\n",
    "    from sklearn.metrics import recall_score\n",
    "    recall = recall_score(x,'Negative')\n",
    "    return recall\n",
    "\n",
    "def all_report (x,y):\n",
    "    from sklearn.metrics import classification_report\n",
    "    report = classification_report(x,y)\n",
    "    return report\n",
    "\n",
    "\n",
    "\n"
   ]
  },
  {
   "cell_type": "markdown",
   "metadata": {},
   "source": [
    "# splitting & under sampling"
   ]
  },
  {
   "cell_type": "code",
   "execution_count": 10,
   "metadata": {},
   "outputs": [
    {
     "data": {
      "text/plain": [
       "label\n",
       "Negative    8770\n",
       "Positive    8770\n",
       "Name: count, dtype: int64"
      ]
     },
     "execution_count": 10,
     "metadata": {},
     "output_type": "execute_result"
    }
   ],
   "source": [
    "x = df['no_stopwords']\n",
    "y = df['label']\n",
    "\n",
    "x, y = undersampling(x, y)\n",
    "\n",
    "x_train, x_test, y_train, y_test = bagi_data(x, y)\n",
    "\n",
    "y.value_counts()\n",
    "\n"
   ]
  },
  {
   "cell_type": "markdown",
   "metadata": {},
   "source": [
    "# TF-idf vectorizing"
   ]
  },
  {
   "cell_type": "code",
   "execution_count": 11,
   "metadata": {},
   "outputs": [],
   "source": [
    "x_train, x_test = tfidf_vec(x_train, x_test)"
   ]
  },
  {
   "cell_type": "markdown",
   "metadata": {},
   "source": [
    "# Modeling"
   ]
  },
  {
   "cell_type": "code",
   "execution_count": 12,
   "metadata": {},
   "outputs": [],
   "source": [
    "\n",
    "from sklearn.ensemble import RandomForestClassifier\n",
    "from sklearn.metrics import accuracy_score\n",
    "random_forest = RandomForestClassifier(n_estimators=100, random_state=42)\n",
    "random_forest.fit(x_train, y_train)\n",
    "    \n",
    "y_pred = random_forest.predict(x_test)"
   ]
  },
  {
   "cell_type": "markdown",
   "metadata": {},
   "source": [
    "# Score Random Forest untag"
   ]
  },
  {
   "cell_type": "code",
   "execution_count": 13,
   "metadata": {},
   "outputs": [
    {
     "name": "stdout",
     "output_type": "stream",
     "text": [
      "              precision    recall  f1-score   support\n",
      "\n",
      "    Negative       0.55      0.61      0.58      1708\n",
      "    Positive       0.58      0.53      0.55      1800\n",
      "\n",
      "    accuracy                           0.56      3508\n",
      "   macro avg       0.57      0.57      0.56      3508\n",
      "weighted avg       0.57      0.56      0.56      3508\n",
      "\n"
     ]
    }
   ],
   "source": [
    "print(all_report(y_test, y_pred))"
   ]
  },
  {
   "cell_type": "code",
   "execution_count": 14,
   "metadata": {},
   "outputs": [
    {
     "name": "stdout",
     "output_type": "stream",
     "text": [
      "F1 Score: 0.575403450194769\n"
     ]
    }
   ],
   "source": [
    "from sklearn.metrics import f1_score\n",
    "\n",
    "# Menghitung F1-score dengan label positif \"1\"\n",
    "f1 = f1_score(y_test, y_pred, pos_label='Negative')\n",
    "\n",
    "# Mencetak hasil\n",
    "print(\"F1 Score:\", f1)\n"
   ]
  }
 ],
 "metadata": {
  "kernelspec": {
   "display_name": "Python 3",
   "language": "python",
   "name": "python3"
  },
  "language_info": {
   "codemirror_mode": {
    "name": "ipython",
    "version": 3
   },
   "file_extension": ".py",
   "mimetype": "text/x-python",
   "name": "python",
   "nbconvert_exporter": "python",
   "pygments_lexer": "ipython3",
   "version": "3.11.8"
  },
  "orig_nbformat": 4
 },
 "nbformat": 4,
 "nbformat_minor": 2
}
