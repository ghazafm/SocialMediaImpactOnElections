{
 "cells": [
  {
   "cell_type": "code",
   "execution_count": 1,
   "metadata": {},
   "outputs": [
    {
     "data": {
      "text/html": [
       "<div>\n",
       "<style scoped>\n",
       "    .dataframe tbody tr th:only-of-type {\n",
       "        vertical-align: middle;\n",
       "    }\n",
       "\n",
       "    .dataframe tbody tr th {\n",
       "        vertical-align: top;\n",
       "    }\n",
       "\n",
       "    .dataframe thead th {\n",
       "        text-align: right;\n",
       "    }\n",
       "</style>\n",
       "<table border=\"1\" class=\"dataframe\">\n",
       "  <thead>\n",
       "    <tr style=\"text-align: right;\">\n",
       "      <th></th>\n",
       "      <th>Tweet</th>\n",
       "      <th>label</th>\n",
       "      <th>no_alay</th>\n",
       "      <th>pos</th>\n",
       "      <th>clean_manual</th>\n",
       "      <th>stemmed</th>\n",
       "      <th>no_stopwords</th>\n",
       "      <th>joined</th>\n",
       "    </tr>\n",
       "  </thead>\n",
       "  <tbody>\n",
       "    <tr>\n",
       "      <th>0</th>\n",
       "      <td>info  anies presiden</td>\n",
       "      <td>Positive</td>\n",
       "      <td>info anies presiden</td>\n",
       "      <td>info NN anies NN presiden NN</td>\n",
       "      <td>[('info', 'NN')]</td>\n",
       "      <td>[['info', 'NN']]</td>\n",
       "      <td>[['info', 'NN']]</td>\n",
       "      <td>info NN</td>\n",
       "    </tr>\n",
       "    <tr>\n",
       "      <th>1</th>\n",
       "      <td>politisi partai gerindra sandiaga uno menjawab...</td>\n",
       "      <td>Positive</td>\n",
       "      <td>politisi partai gerindra sandiaga uno menjawab...</td>\n",
       "      <td>politisi NN partai NN gerindra NN sandiaga NN ...</td>\n",
       "      <td>[('politisi', 'NN'), ('sandiaga', 'NN'), ('uno...</td>\n",
       "      <td>[['politis', 'NN'], ['sandiaga', 'NN'], ['uno'...</td>\n",
       "      <td>[['politis', 'NN'], ['sandiaga', 'NN'], ['uno'...</td>\n",
       "      <td>politis NN sandiaga NN uno NN jawab VB soal NN...</td>\n",
       "    </tr>\n",
       "    <tr>\n",
       "      <th>2</th>\n",
       "      <td>lanjut pak anies kita kawal sampai jadi presiden</td>\n",
       "      <td>Positive</td>\n",
       "      <td>lanjut pak anies kita kawal sampai jadi presiden</td>\n",
       "      <td>lanjut VB pak NN anies NN kita PRP kawal NN sa...</td>\n",
       "      <td>[('lanjut', 'VB'), ('pak', 'NN'), ('kita', 'PR...</td>\n",
       "      <td>[['lanjut', 'VB'], ['pak', 'NN'], ['kita', 'PR...</td>\n",
       "      <td>[['lanjut', 'VB'], ['pak', 'NN'], ['kawal', 'N...</td>\n",
       "      <td>lanjut VB pak NN kawal NN</td>\n",
       "    </tr>\n",
       "    <tr>\n",
       "      <th>3</th>\n",
       "      <td>semoga allah swt menyelamatkan bangsa dan nega...</td>\n",
       "      <td>Positive</td>\n",
       "      <td>semoga allah swt menyelamatkan bangsa dan nega...</td>\n",
       "      <td>semoga SC allah VB swt NN menyelamatkan VB ban...</td>\n",
       "      <td>[('swt', 'NN'), ('menyelamatkan', 'VB'), ('ban...</td>\n",
       "      <td>[['swt', 'NN'], ['selamat', 'VB'], ['bangsa', ...</td>\n",
       "      <td>[['swt', 'NN'], ['selamat', 'VB'], ['bangsa', ...</td>\n",
       "      <td>swt NN selamat VB bangsa NN negara NN republik...</td>\n",
       "    </tr>\n",
       "    <tr>\n",
       "      <th>4</th>\n",
       "      <td>chotimah kasian ya pa anies makanya sudah teka...</td>\n",
       "      <td>Positive</td>\n",
       "      <td>chotimah kasihan ya apa anies makanya sudah te...</td>\n",
       "      <td>chotimah NN kasihan NN ya NN apa WH anies NN m...</td>\n",
       "      <td>[('kasihan', 'NN'), ('ya', 'NN'), ('makanya', ...</td>\n",
       "      <td>[['kasihan', 'NN'], ['ya', 'NN'], ['makanya', ...</td>\n",
       "      <td>[['kasihan', 'NN'], ['makanya', 'RB'], ['tekad...</td>\n",
       "      <td>kasihan NN makanya RB tekad VB keluarga NN</td>\n",
       "    </tr>\n",
       "    <tr>\n",
       "      <th>...</th>\n",
       "      <td>...</td>\n",
       "      <td>...</td>\n",
       "      <td>...</td>\n",
       "      <td>...</td>\n",
       "      <td>...</td>\n",
       "      <td>...</td>\n",
       "      <td>...</td>\n",
       "      <td>...</td>\n",
       "    </tr>\n",
       "    <tr>\n",
       "      <th>24317</th>\n",
       "      <td>pa ganjar pranowo nex presiden indonesia</td>\n",
       "      <td>Negative</td>\n",
       "      <td>apa ganjar pranowo nex presiden indonesia</td>\n",
       "      <td>apa WH ganjar FW pranowo FW nex FW presiden NN...</td>\n",
       "      <td>[('nex', 'FW')]</td>\n",
       "      <td>[['nex', 'FW']]</td>\n",
       "      <td>[['nex', 'FW']]</td>\n",
       "      <td>nex FW</td>\n",
       "    </tr>\n",
       "    <tr>\n",
       "      <th>24318</th>\n",
       "      <td>rt ganjaristdltras ganjarist deltras jatim sia...</td>\n",
       "      <td>Negative</td>\n",
       "      <td>rt ganjaristdltras ganjarist deltras jatim sia...</td>\n",
       "      <td>rt FW ganjaristdltras FW ganjarist FW deltras ...</td>\n",
       "      <td>[('rt', 'FW'), ('ganjaristdltras', 'FW'), ('ga...</td>\n",
       "      <td>[['rt', 'FW'], ['ganjaristdltras', 'FW'], ['ga...</td>\n",
       "      <td>[['rt', 'FW'], ['ganjaristdltras', 'FW'], ['ga...</td>\n",
       "      <td>rt FW ganjaristdltras FW ganjarist FW deltras ...</td>\n",
       "    </tr>\n",
       "    <tr>\n",
       "      <th>24319</th>\n",
       "      <td>artinya ganjar pranowo presiden</td>\n",
       "      <td>Negative</td>\n",
       "      <td>artinya ganjar pranowo presiden</td>\n",
       "      <td>artinya RB ganjar VB pranowo NN presiden NN</td>\n",
       "      <td>[('artinya', 'RB')]</td>\n",
       "      <td>[['arti', 'RB']]</td>\n",
       "      <td>[['arti', 'RB']]</td>\n",
       "      <td>arti RB</td>\n",
       "    </tr>\n",
       "    <tr>\n",
       "      <th>24320</th>\n",
       "      <td>semakin banyak rakyat yang siap mendukung ganj...</td>\n",
       "      <td>Negative</td>\n",
       "      <td>semakin banyak rakyat yang siap mendukung ganj...</td>\n",
       "      <td>semakin RB banyak CD rakyat NN yang SC siap VB...</td>\n",
       "      <td>[('semakin', 'RB'), ('yang', 'SC'), ('siap', '...</td>\n",
       "      <td>[['makin', 'RB'], ['yang', 'SC'], ['siap', 'VB...</td>\n",
       "      <td>[['makin', 'RB'], ['siap', 'VB'], ['bagai', 'I...</td>\n",
       "      <td>makin RB siap VB bagai IN selamat JJ ulang VB ...</td>\n",
       "    </tr>\n",
       "    <tr>\n",
       "      <th>24321</th>\n",
       "      <td>selamat hari penerbangan nasional oktober terb...</td>\n",
       "      <td>Negative</td>\n",
       "      <td>selamat hari penerbangan nasional oktober terb...</td>\n",
       "      <td>selamat NN hari NN penerbangan NN nasional JJ ...</td>\n",
       "      <td>[('selamat', 'NN'), ('penerbangan', 'NN'), ('n...</td>\n",
       "      <td>[['selamat', 'NN'], ['terbang', 'NN'], ['nasio...</td>\n",
       "      <td>[['selamat', 'NN'], ['terbang', 'NN'], ['nasio...</td>\n",
       "      <td>selamat NN terbang NN nasional JJ oktober NN t...</td>\n",
       "    </tr>\n",
       "  </tbody>\n",
       "</table>\n",
       "<p>24322 rows × 8 columns</p>\n",
       "</div>"
      ],
      "text/plain": [
       "                                                   Tweet     label  \\\n",
       "0                                   info  anies presiden  Positive   \n",
       "1      politisi partai gerindra sandiaga uno menjawab...  Positive   \n",
       "2       lanjut pak anies kita kawal sampai jadi presiden  Positive   \n",
       "3      semoga allah swt menyelamatkan bangsa dan nega...  Positive   \n",
       "4      chotimah kasian ya pa anies makanya sudah teka...  Positive   \n",
       "...                                                  ...       ...   \n",
       "24317           pa ganjar pranowo nex presiden indonesia  Negative   \n",
       "24318  rt ganjaristdltras ganjarist deltras jatim sia...  Negative   \n",
       "24319                    artinya ganjar pranowo presiden  Negative   \n",
       "24320  semakin banyak rakyat yang siap mendukung ganj...  Negative   \n",
       "24321  selamat hari penerbangan nasional oktober terb...  Negative   \n",
       "\n",
       "                                                 no_alay  \\\n",
       "0                                    info anies presiden   \n",
       "1      politisi partai gerindra sandiaga uno menjawab...   \n",
       "2       lanjut pak anies kita kawal sampai jadi presiden   \n",
       "3      semoga allah swt menyelamatkan bangsa dan nega...   \n",
       "4      chotimah kasihan ya apa anies makanya sudah te...   \n",
       "...                                                  ...   \n",
       "24317          apa ganjar pranowo nex presiden indonesia   \n",
       "24318  rt ganjaristdltras ganjarist deltras jatim sia...   \n",
       "24319                    artinya ganjar pranowo presiden   \n",
       "24320  semakin banyak rakyat yang siap mendukung ganj...   \n",
       "24321  selamat hari penerbangan nasional oktober terb...   \n",
       "\n",
       "                                                     pos  \\\n",
       "0                           info NN anies NN presiden NN   \n",
       "1      politisi NN partai NN gerindra NN sandiaga NN ...   \n",
       "2      lanjut VB pak NN anies NN kita PRP kawal NN sa...   \n",
       "3      semoga SC allah VB swt NN menyelamatkan VB ban...   \n",
       "4      chotimah NN kasihan NN ya NN apa WH anies NN m...   \n",
       "...                                                  ...   \n",
       "24317  apa WH ganjar FW pranowo FW nex FW presiden NN...   \n",
       "24318  rt FW ganjaristdltras FW ganjarist FW deltras ...   \n",
       "24319        artinya RB ganjar VB pranowo NN presiden NN   \n",
       "24320  semakin RB banyak CD rakyat NN yang SC siap VB...   \n",
       "24321  selamat NN hari NN penerbangan NN nasional JJ ...   \n",
       "\n",
       "                                            clean_manual  \\\n",
       "0                                       [('info', 'NN')]   \n",
       "1      [('politisi', 'NN'), ('sandiaga', 'NN'), ('uno...   \n",
       "2      [('lanjut', 'VB'), ('pak', 'NN'), ('kita', 'PR...   \n",
       "3      [('swt', 'NN'), ('menyelamatkan', 'VB'), ('ban...   \n",
       "4      [('kasihan', 'NN'), ('ya', 'NN'), ('makanya', ...   \n",
       "...                                                  ...   \n",
       "24317                                    [('nex', 'FW')]   \n",
       "24318  [('rt', 'FW'), ('ganjaristdltras', 'FW'), ('ga...   \n",
       "24319                                [('artinya', 'RB')]   \n",
       "24320  [('semakin', 'RB'), ('yang', 'SC'), ('siap', '...   \n",
       "24321  [('selamat', 'NN'), ('penerbangan', 'NN'), ('n...   \n",
       "\n",
       "                                                 stemmed  \\\n",
       "0                                       [['info', 'NN']]   \n",
       "1      [['politis', 'NN'], ['sandiaga', 'NN'], ['uno'...   \n",
       "2      [['lanjut', 'VB'], ['pak', 'NN'], ['kita', 'PR...   \n",
       "3      [['swt', 'NN'], ['selamat', 'VB'], ['bangsa', ...   \n",
       "4      [['kasihan', 'NN'], ['ya', 'NN'], ['makanya', ...   \n",
       "...                                                  ...   \n",
       "24317                                    [['nex', 'FW']]   \n",
       "24318  [['rt', 'FW'], ['ganjaristdltras', 'FW'], ['ga...   \n",
       "24319                                   [['arti', 'RB']]   \n",
       "24320  [['makin', 'RB'], ['yang', 'SC'], ['siap', 'VB...   \n",
       "24321  [['selamat', 'NN'], ['terbang', 'NN'], ['nasio...   \n",
       "\n",
       "                                            no_stopwords  \\\n",
       "0                                       [['info', 'NN']]   \n",
       "1      [['politis', 'NN'], ['sandiaga', 'NN'], ['uno'...   \n",
       "2      [['lanjut', 'VB'], ['pak', 'NN'], ['kawal', 'N...   \n",
       "3      [['swt', 'NN'], ['selamat', 'VB'], ['bangsa', ...   \n",
       "4      [['kasihan', 'NN'], ['makanya', 'RB'], ['tekad...   \n",
       "...                                                  ...   \n",
       "24317                                    [['nex', 'FW']]   \n",
       "24318  [['rt', 'FW'], ['ganjaristdltras', 'FW'], ['ga...   \n",
       "24319                                   [['arti', 'RB']]   \n",
       "24320  [['makin', 'RB'], ['siap', 'VB'], ['bagai', 'I...   \n",
       "24321  [['selamat', 'NN'], ['terbang', 'NN'], ['nasio...   \n",
       "\n",
       "                                                  joined  \n",
       "0                                                info NN  \n",
       "1      politis NN sandiaga NN uno NN jawab VB soal NN...  \n",
       "2                              lanjut VB pak NN kawal NN  \n",
       "3      swt NN selamat VB bangsa NN negara NN republik...  \n",
       "4             kasihan NN makanya RB tekad VB keluarga NN  \n",
       "...                                                  ...  \n",
       "24317                                             nex FW  \n",
       "24318  rt FW ganjaristdltras FW ganjarist FW deltras ...  \n",
       "24319                                            arti RB  \n",
       "24320  makin RB siap VB bagai IN selamat JJ ulang VB ...  \n",
       "24321  selamat NN terbang NN nasional JJ oktober NN t...  \n",
       "\n",
       "[24322 rows x 8 columns]"
      ]
     },
     "execution_count": 1,
     "metadata": {},
     "output_type": "execute_result"
    }
   ],
   "source": [
    "import pandas as pd\n",
    "import numpy as np\n",
    "df = pd.read_csv('https://raw.githubusercontent.com/ghazafm/SocialMediaSentiment/main/preprocessing/Training/data/clean/gabungan.csv')\n",
    "df"
   ]
  },
  {
   "cell_type": "code",
   "execution_count": 2,
   "metadata": {},
   "outputs": [
    {
     "data": {
      "text/plain": [
       "label\n",
       "Positive    15570\n",
       "Negative     8752\n",
       "Name: count, dtype: int64"
      ]
     },
     "execution_count": 2,
     "metadata": {},
     "output_type": "execute_result"
    }
   ],
   "source": [
    "df['label'].value_counts()"
   ]
  },
  {
   "cell_type": "code",
   "execution_count": 3,
   "metadata": {},
   "outputs": [],
   "source": [
    "# df['no_stopwords'] = df['no_stopwords'].astype('str')"
   ]
  },
  {
   "cell_type": "code",
   "execution_count": 4,
   "metadata": {},
   "outputs": [],
   "source": [
    "x = df['joined']\n",
    "y = df['label']"
   ]
  },
  {
   "cell_type": "code",
   "execution_count": 5,
   "metadata": {},
   "outputs": [],
   "source": [
    "from imblearn.under_sampling import RandomUnderSampler\n",
    "rus = RandomUnderSampler()\n",
    "x, y = rus.fit_resample(x.values.reshape(-1,1),y)\n",
    "x = x.flatten()\n"
   ]
  },
  {
   "cell_type": "code",
   "execution_count": 6,
   "metadata": {},
   "outputs": [
    {
     "data": {
      "text/plain": [
       "label\n",
       "Negative    8752\n",
       "Positive    8752\n",
       "Name: count, dtype: int64"
      ]
     },
     "execution_count": 6,
     "metadata": {},
     "output_type": "execute_result"
    }
   ],
   "source": [
    "y.value_counts()"
   ]
  },
  {
   "cell_type": "code",
   "execution_count": 7,
   "metadata": {},
   "outputs": [],
   "source": [
    "from sklearn.model_selection import train_test_split\n",
    "\n",
    "x_train, x_test, y_train, y_test = train_test_split(x,y, test_size=0.2, stratify=y, random_state=2)"
   ]
  },
  {
   "cell_type": "code",
   "execution_count": 8,
   "metadata": {},
   "outputs": [
    {
     "name": "stdout",
     "output_type": "stream",
     "text": [
      "['tv NN pak NN milu NN amin NN yohanes FW dosen CD'\n",
      " 'insya NN no NN perubahanwarna NN suku NN mana SC' 'mantap RB' ...\n",
      " 'gasss FW pooollll FW ubah NN ibu NN pertiwi VB biar CD cebong NN kodok VB panas JJ dingin NN'\n",
      " 'wow FW pilih NN gue FW tuh FW entar FW baik VB sejahtera JJ'\n",
      " 'idha NN siap VB siap VB lanjut VB kasus NN kasus NN']\n"
     ]
    }
   ],
   "source": [
    "print(x_train)"
   ]
  },
  {
   "cell_type": "code",
   "execution_count": 9,
   "metadata": {},
   "outputs": [
    {
     "name": "stdout",
     "output_type": "stream",
     "text": [
      "(17504,) (14003,) (3501,) (14003,) (3501,)\n"
     ]
    }
   ],
   "source": [
    "print(x.shape, x_train.shape, x_test.shape, y_train.shape, y_test.shape)"
   ]
  },
  {
   "cell_type": "code",
   "execution_count": 10,
   "metadata": {},
   "outputs": [],
   "source": [
    "from sklearn.feature_extraction.text import TfidfVectorizer\n",
    "\n",
    "vectorizer = TfidfVectorizer()\n",
    "\n",
    "x_train = vectorizer.fit_transform(x_train)\n",
    "x_test = vectorizer.transform(x_test)"
   ]
  },
  {
   "cell_type": "code",
   "execution_count": 11,
   "metadata": {},
   "outputs": [],
   "source": [
    "from sklearn.svm import SVC\n",
    "from sklearn.model_selection import train_test_split\n",
    "from sklearn.metrics import accuracy_score"
   ]
  },
  {
   "cell_type": "code",
   "execution_count": 12,
   "metadata": {},
   "outputs": [
    {
     "name": "stdout",
     "output_type": "stream",
     "text": [
      "Akurasi model SVM: 0.5826906598114824\n"
     ]
    }
   ],
   "source": [
    "svm_classifier = SVC(kernel='linear', random_state=42)\n",
    "\n",
    "svm_classifier.fit(x_train, y_train)\n",
    "\n",
    "y_pred = svm_classifier.predict(x_test)\n",
    "\n",
    "akurasi = accuracy_score(y_test, y_pred)\n",
    "print(\"Akurasi model SVM:\", akurasi)\n",
    "\n"
   ]
  },
  {
   "cell_type": "code",
   "execution_count": 13,
   "metadata": {},
   "outputs": [
    {
     "name": "stdout",
     "output_type": "stream",
     "text": [
      "['Negative' 'Positive' 'Positive' 'Positive' 'Negative' 'Negative'\n",
      " 'Negative']\n"
     ]
    }
   ],
   "source": [
    "contoh = ['adapun hal itu disampaikan hashim dalam sambutannya pada acara yang diselenggarakan prabowo mania deklarasikan prabowo subianto presiden di museum joang jakarta minggu',\n",
    "'presiden indonesia tahun kata dia harus prabowo subianto',\n",
    "'pasti dan pedofilia akan diberantas prabowo presiden',\n",
    "'dukungan terhadap prabowo subianto untuk maju sebagai calon presiden pada pemilu datang dari sulawesi utaracapres pemilu dekade terusmajubersamaprabowo mendingprabowo mendingprabowo',\n",
    "'pemerintah gak becus',\n",
    "'pemerintah becus',\n",
    "'prabowo ga gemoy'\n",
    "\n",
    "]\n",
    "contoh = vectorizer.transform(contoh)\n",
    "prediksi = svm_classifier.predict(contoh)\n",
    "print(prediksi)"
   ]
  }
 ],
 "metadata": {
  "kernelspec": {
   "display_name": "Python 3",
   "language": "python",
   "name": "python3"
  },
  "language_info": {
   "codemirror_mode": {
    "name": "ipython",
    "version": 3
   },
   "file_extension": ".py",
   "mimetype": "text/x-python",
   "name": "python",
   "nbconvert_exporter": "python",
   "pygments_lexer": "ipython3",
   "version": "3.11.8"
  },
  "orig_nbformat": 4
 },
 "nbformat": 4,
 "nbformat_minor": 2
}
