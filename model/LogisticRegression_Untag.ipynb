{
 "cells": [
  {
   "cell_type": "markdown",
   "metadata": {},
   "source": [
    "# Dataframe"
   ]
  },
  {
   "cell_type": "code",
   "execution_count": 3,
   "metadata": {},
   "outputs": [],
   "source": [
    "import pandas as pd\n",
    "import numpy as np\n",
    "import Funct_modelling\n",
    "df = pd.read_csv('https://raw.githubusercontent.com/ghazafm/SocialMediaSentiment/main/preprocessing/Training/data/clean/regular/gabungan.csv')\n",
    "df = df.dropna()"
   ]
  },
  {
   "cell_type": "markdown",
   "metadata": {},
   "source": [
    "# splitting & under sampling & TF-idf vectorizing"
   ]
  },
  {
   "cell_type": "code",
   "execution_count": 4,
   "metadata": {},
   "outputs": [],
   "source": [
    "x_train, x_test, y_train, y_test = Funct_modelling.preprocessing(df)"
   ]
  },
  {
   "cell_type": "markdown",
   "metadata": {},
   "source": [
    "# Modeling"
   ]
  },
  {
   "cell_type": "code",
   "execution_count": 5,
   "metadata": {},
   "outputs": [],
   "source": [
    "# from sklearn.linear_model import LogisticRegression\n",
    "# logistic = LogisticRegression(random_state=42)\n",
    "\n",
    "# parameter = {\n",
    "#     \"penalty\": [\"l1\", \"l2\", \"elasticnet\", \"none\"],\n",
    "#     \"C\": [0.001, 0.01, 0.1, 1, 10, 100]\n",
    "# }\n",
    "\n",
    "# # from sklearn.metrics import recall_score, make_scorer\n",
    "\n",
    "# # # Membuat scorer untuk recall positif\n",
    "# # scorer = make_scorer(recall_score, pos_label='Positive')\n",
    "\n",
    "# from sklearn.metrics import precision_score, make_scorer\n",
    "\n",
    "# # Membuat scorer untuk precision\n",
    "# precision_score = make_scorer(precision_score, pos_label='Negative')\n",
    "\n",
    "\n",
    "# from sklearn.model_selection import GridSearchCV\n",
    "# GS = GridSearchCV(estimator = logistic,\n",
    "#                     param_grid = parameter,\n",
    "#                     scoring = precision_score, \n",
    "#                     refit = False,\n",
    "#                     cv=5,\n",
    "#                     verbose = 3)\n",
    "\n",
    "# GS.fit(x_train, y_train)\n",
    "# print(GS.best_params_)\n"
   ]
  },
  {
   "cell_type": "code",
   "execution_count": 6,
   "metadata": {},
   "outputs": [],
   "source": [
    "# GS.best_params_"
   ]
  },
  {
   "cell_type": "code",
   "execution_count": 7,
   "metadata": {},
   "outputs": [],
   "source": [
    "from sklearn.linear_model import LogisticRegression\n",
    "logistic = LogisticRegression(random_state=42, C=1, penalty='l2')\n",
    "logistic.fit(x_train, y_train)\n",
    "    \n",
    "y_pred = logistic.predict(x_test)"
   ]
  },
  {
   "cell_type": "markdown",
   "metadata": {},
   "source": [
    "# Score Logistic Regression untag"
   ]
  },
  {
   "cell_type": "code",
   "execution_count": 8,
   "metadata": {},
   "outputs": [
    {
     "name": "stdout",
     "output_type": "stream",
     "text": [
      "              precision    recall  f1-score   support\n",
      "\n",
      "    Negative       0.59      0.58      0.58      1772\n",
      "    Positive       0.58      0.59      0.58      1737\n",
      "\n",
      "    accuracy                           0.58      3509\n",
      "   macro avg       0.58      0.58      0.58      3509\n",
      "weighted avg       0.58      0.58      0.58      3509\n",
      "\n"
     ]
    }
   ],
   "source": [
    "print(Funct_modelling.all_report(y_test, y_pred))"
   ]
  },
  {
   "cell_type": "code",
   "execution_count": 9,
   "metadata": {},
   "outputs": [],
   "source": [
    "# import pickle\n",
    "\n",
    "# # save the model to disk\n",
    "# filename = 'LogisticRegression_Untag.pkl'\n",
    "# pickle.dump(logistic, open(filename, 'wb'))"
   ]
  }
 ],
 "metadata": {
  "kernelspec": {
   "display_name": "Python 3",
   "language": "python",
   "name": "python3"
  },
  "language_info": {
   "codemirror_mode": {
    "name": "ipython",
    "version": 3
   },
   "file_extension": ".py",
   "mimetype": "text/x-python",
   "name": "python",
   "nbconvert_exporter": "python",
   "pygments_lexer": "ipython3",
   "version": "3.10.13"
  },
  "orig_nbformat": 4
 },
 "nbformat": 4,
 "nbformat_minor": 2
}
