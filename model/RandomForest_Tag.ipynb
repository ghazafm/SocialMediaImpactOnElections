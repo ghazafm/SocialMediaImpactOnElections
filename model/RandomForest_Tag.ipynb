{
 "cells": [
  {
   "cell_type": "markdown",
   "metadata": {},
   "source": [
    "# Dataframe"
   ]
  },
  {
   "cell_type": "code",
   "execution_count": 9,
   "metadata": {},
   "outputs": [],
   "source": [
    "import pandas as pd\n",
    "import numpy as np\n",
    "import Funct_modelling\n",
    "df = pd.read_csv('https://raw.githubusercontent.com/ghazafm/SocialMediaSentiment/main/preprocessing/Training/data/clean/pos_tagging/gabungan.csv')\n",
    "df = df.dropna()"
   ]
  },
  {
   "cell_type": "markdown",
   "metadata": {},
   "source": [
    "# splitting & under sampling & TF-idf vectorizing"
   ]
  },
  {
   "cell_type": "code",
   "execution_count": 10,
   "metadata": {},
   "outputs": [],
   "source": [
    "x_train, x_test, y_train, y_test = Funct_modelling.preprocessing(df,tag=True)"
   ]
  },
  {
   "cell_type": "markdown",
   "metadata": {},
   "source": [
    "# Modeling"
   ]
  },
  {
   "cell_type": "code",
   "execution_count": 11,
   "metadata": {},
   "outputs": [],
   "source": [
    "\n",
    "# from sklearn.ensemble import RandomForestClassifier\n",
    "# from sklearn.metrics import accuracy_score\n",
    "# random_forest = RandomForestClassifier(random_state=42)\n",
    "# random_forest.fit(x_train, y_train)\n",
    "    \n",
    "# y_pred = random_forest.predict(x_test)"
   ]
  },
  {
   "cell_type": "code",
   "execution_count": 12,
   "metadata": {},
   "outputs": [],
   "source": [
    "# # from sklearn.metrics import recall_score, make_scorer\n",
    "\n",
    "# # # Membuat scorer untuk recall positif\n",
    "# # scorer = make_scorer(recall_score, pos_label='Positive')\n",
    "\n",
    "# parameter = {\n",
    "#     \"n_estimators\": [10, 50, 100, 200],\n",
    "#     \"criterion\": [\"gini\", \"entropy\"],\n",
    "#     \"max_depth\": range(1,10),\n",
    "#     \"min_samples_split\": range(2,10),\n",
    "#     \"min_samples_leaf\": range(1,5)\n",
    "# }\n",
    "\n",
    "# from sklearn.model_selection import GridSearchCV\n",
    "# GS = GridSearchCV(estimator = random_forest,\n",
    "#                     param_grid = parameter,\n",
    "#                     scoring = 'f1_macro', \n",
    "#                     refit = True,\n",
    "#                     cv=5,\n",
    "#                     verbose = 3)\n",
    "# GS.fit(x_train, y_train)\n",
    "# print(GS.best_params_)\n"
   ]
  },
  {
   "cell_type": "code",
   "execution_count": 13,
   "metadata": {},
   "outputs": [],
   "source": [
    "# GS.best_params_"
   ]
  },
  {
   "cell_type": "code",
   "execution_count": 14,
   "metadata": {},
   "outputs": [],
   "source": [
    "from sklearn.ensemble import RandomForestClassifier\n",
    "random_forest = RandomForestClassifier(random_state=42, bootstrap=True, max_depth=40, max_features='sqrt', n_estimators=200)\n",
    "random_forest.fit(x_train, y_train)\n",
    "    \n",
    "y_pred = random_forest.predict(x_test)"
   ]
  },
  {
   "cell_type": "markdown",
   "metadata": {},
   "source": [
    "# Score Random Forest with tag"
   ]
  },
  {
   "cell_type": "code",
   "execution_count": 15,
   "metadata": {},
   "outputs": [
    {
     "name": "stdout",
     "output_type": "stream",
     "text": [
      "              precision    recall  f1-score   support\n",
      "\n",
      "    Negative       0.59      0.46      0.52      1782\n",
      "    Positive       0.54      0.67      0.60      1720\n",
      "\n",
      "    accuracy                           0.56      3502\n",
      "   macro avg       0.57      0.56      0.56      3502\n",
      "weighted avg       0.57      0.56      0.56      3502\n",
      "\n"
     ]
    }
   ],
   "source": [
    "print(Funct_modelling.all_report(y_test, y_pred))"
   ]
  },
  {
   "cell_type": "code",
   "execution_count": 16,
   "metadata": {},
   "outputs": [],
   "source": [
    "# import pickle\n",
    "\n",
    "# # save the model to disk\n",
    "# filename = 'RandomForest_Tag.pkl'\n",
    "# pickle.dump(random_forest, open(filename, 'wb'))"
   ]
  }
 ],
 "metadata": {
  "kernelspec": {
   "display_name": "Python 3",
   "language": "python",
   "name": "python3"
  },
  "language_info": {
   "codemirror_mode": {
    "name": "ipython",
    "version": 3
   },
   "file_extension": ".py",
   "mimetype": "text/x-python",
   "name": "python",
   "nbconvert_exporter": "python",
   "pygments_lexer": "ipython3",
   "version": "3.10.13"
  },
  "orig_nbformat": 4
 },
 "nbformat": 4,
 "nbformat_minor": 2
}
