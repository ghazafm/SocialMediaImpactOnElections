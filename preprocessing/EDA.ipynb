{
 "cells": [
  {
   "cell_type": "code",
   "execution_count": 24,
   "metadata": {},
   "outputs": [],
   "source": [
    "import pandas as pd"
   ]
  },
  {
   "cell_type": "code",
   "execution_count": 25,
   "metadata": {},
   "outputs": [],
   "source": [
    "df1_temp = pd.read_csv('https://raw.githubusercontent.com/ghazafm/SocialMediaSentiment/main/Datasets/labeled%20data/Anies%20Baswedan.csv',encoding= 'ISO-8859-1')\n",
    "df_anis = pd.read_csv('https://raw.githubusercontent.com/ghazafm/SocialMediaSentiment/main/Datasets/original%20data/Anies%20Baswedan.csv',encoding= 'ISO-8859-1')\n",
    "df2_temp = pd.read_csv('https://raw.githubusercontent.com/ghazafm/SocialMediaSentiment/main/Datasets/labeled%20data/Prabowo%20Subianto.csv',encoding= 'ISO-8859-1')\n",
    "df_prabowo = pd.read_csv('https://raw.githubusercontent.com/ghazafm/SocialMediaSentiment/main/Datasets/original%20data/Prabowo%20Subianto.csv',encoding= 'ISO-8859-1')\n",
    "df3_temp = pd.read_csv('https://raw.githubusercontent.com/ghazafm/SocialMediaSentiment/main/Datasets/labeled%20data/Ganjar%20Pranowo.csv',encoding= 'ISO-8859-1')\n",
    "df_ganjar = pd.read_csv('https://raw.githubusercontent.com/ghazafm/SocialMediaSentiment/main/Datasets/original%20data/Ganjar%20Pranowo.csv',encoding= 'ISO-8859-1')"
   ]
  },
  {
   "cell_type": "code",
   "execution_count": 26,
   "metadata": {},
   "outputs": [],
   "source": [
    "df_anis['label'] = df1_temp['label']\n",
    "df_prabowo['label'] = df2_temp['label']\n",
    "df_ganjar['label'] = df3_temp['label']"
   ]
  },
  {
   "cell_type": "code",
   "execution_count": 27,
   "metadata": {},
   "outputs": [],
   "source": [
    "def clean(content):\n",
    "    clean = content.split(\" \")\n",
    "    clean = clean[0]\n",
    "    return clean"
   ]
  },
  {
   "cell_type": "code",
   "execution_count": 28,
   "metadata": {},
   "outputs": [],
   "source": [
    "df_anis['Date'] = df_anis['Date'].apply(clean)\n",
    "df_prabowo['Date'] = df_prabowo['Date'].apply(clean)\n",
    "df_ganjar['Date'] = df_anis['Date'].apply(clean)"
   ]
  },
  {
   "cell_type": "code",
   "execution_count": 29,
   "metadata": {},
   "outputs": [],
   "source": [
    "df_anis = df_anis[['Date','User ID','Tweet Count','Tweet Location','Tweet','label']]\n",
    "df_prabowo = df_prabowo[['Date','User ID','Tweet Count','Tweet Location','Tweet','label']]\n",
    "df_ganjar = df_ganjar[['Date','User ID','Tweet Count','Tweet Location','Tweet','label']]"
   ]
  },
  {
   "cell_type": "code",
   "execution_count": 30,
   "metadata": {},
   "outputs": [
    {
     "data": {
      "text/html": [
       "<div>\n",
       "<style scoped>\n",
       "    .dataframe tbody tr th:only-of-type {\n",
       "        vertical-align: middle;\n",
       "    }\n",
       "\n",
       "    .dataframe tbody tr th {\n",
       "        vertical-align: top;\n",
       "    }\n",
       "\n",
       "    .dataframe thead th {\n",
       "        text-align: right;\n",
       "    }\n",
       "</style>\n",
       "<table border=\"1\" class=\"dataframe\">\n",
       "  <thead>\n",
       "    <tr style=\"text-align: right;\">\n",
       "      <th></th>\n",
       "      <th>Date</th>\n",
       "      <th>User ID</th>\n",
       "      <th>Tweet Count</th>\n",
       "      <th>Tweet Location</th>\n",
       "      <th>Tweet</th>\n",
       "      <th>label</th>\n",
       "    </tr>\n",
       "  </thead>\n",
       "  <tbody>\n",
       "    <tr>\n",
       "      <th>0</th>\n",
       "      <td>2023-04-16</td>\n",
       "      <td>1.640000e+18</td>\n",
       "      <td>22</td>\n",
       "      <td>NaN</td>\n",
       "      <td>info  anies presiden</td>\n",
       "      <td>Positive</td>\n",
       "    </tr>\n",
       "    <tr>\n",
       "      <th>1</th>\n",
       "      <td>2023-04-16</td>\n",
       "      <td>7.710306e+08</td>\n",
       "      <td>30121</td>\n",
       "      <td>Palmerah, Jakarta</td>\n",
       "      <td>politisi partai gerindra sandiaga uno menjawab...</td>\n",
       "      <td>Positive</td>\n",
       "    </tr>\n",
       "    <tr>\n",
       "      <th>2</th>\n",
       "      <td>2023-04-16</td>\n",
       "      <td>3.807551e+08</td>\n",
       "      <td>230</td>\n",
       "      <td>Jakarta - Utara</td>\n",
       "      <td>lanjut pak anies kita kawal sampai jadi presiden</td>\n",
       "      <td>Positive</td>\n",
       "    </tr>\n",
       "    <tr>\n",
       "      <th>3</th>\n",
       "      <td>2023-04-16</td>\n",
       "      <td>9.210000e+17</td>\n",
       "      <td>2670</td>\n",
       "      <td>Jakarta</td>\n",
       "      <td>semoga allah swt menyelamatkan bangsa dan nega...</td>\n",
       "      <td>Positive</td>\n",
       "    </tr>\n",
       "    <tr>\n",
       "      <th>4</th>\n",
       "      <td>2023-04-16</td>\n",
       "      <td>1.540000e+18</td>\n",
       "      <td>766</td>\n",
       "      <td>Lebak, Banten</td>\n",
       "      <td>chotimah kasian ya pa anies makanya sudah teka...</td>\n",
       "      <td>Positive</td>\n",
       "    </tr>\n",
       "    <tr>\n",
       "      <th>...</th>\n",
       "      <td>...</td>\n",
       "      <td>...</td>\n",
       "      <td>...</td>\n",
       "      <td>...</td>\n",
       "      <td>...</td>\n",
       "      <td>...</td>\n",
       "    </tr>\n",
       "    <tr>\n",
       "      <th>9995</th>\n",
       "      <td>2023-01-05</td>\n",
       "      <td>1.070000e+18</td>\n",
       "      <td>541856</td>\n",
       "      <td>NaN</td>\n",
       "      <td>tidak ada gejolak sara selama membangun pks pu...</td>\n",
       "      <td>Negative</td>\n",
       "    </tr>\n",
       "    <tr>\n",
       "      <th>9996</th>\n",
       "      <td>2023-01-05</td>\n",
       "      <td>1.070000e+18</td>\n",
       "      <td>541856</td>\n",
       "      <td>NaN</td>\n",
       "      <td>ubedilah mahfud md otak di balik perppu ciptak...</td>\n",
       "      <td>Negative</td>\n",
       "    </tr>\n",
       "    <tr>\n",
       "      <th>9997</th>\n",
       "      <td>2023-01-05</td>\n",
       "      <td>1.530000e+18</td>\n",
       "      <td>771</td>\n",
       "      <td>Monaco</td>\n",
       "      <td>my presiden mranies</td>\n",
       "      <td>Negative</td>\n",
       "    </tr>\n",
       "    <tr>\n",
       "      <th>9998</th>\n",
       "      <td>2023-01-05</td>\n",
       "      <td>1.600000e+18</td>\n",
       "      <td>3174</td>\n",
       "      <td>Jawa Tengah, Indonesia</td>\n",
       "      <td>pa anies presiden</td>\n",
       "      <td>Negative</td>\n",
       "    </tr>\n",
       "    <tr>\n",
       "      <th>9999</th>\n",
       "      <td>2023-01-05</td>\n",
       "      <td>1.620599e+08</td>\n",
       "      <td>27208</td>\n",
       "      <td>INDONESIA</td>\n",
       "      <td>siapakah yg anda pilih presiden anies baswedan...</td>\n",
       "      <td>Negative</td>\n",
       "    </tr>\n",
       "  </tbody>\n",
       "</table>\n",
       "<p>10000 rows × 6 columns</p>\n",
       "</div>"
      ],
      "text/plain": [
       "            Date       User ID  Tweet Count          Tweet Location  \\\n",
       "0     2023-04-16  1.640000e+18           22                     NaN   \n",
       "1     2023-04-16  7.710306e+08        30121       Palmerah, Jakarta   \n",
       "2     2023-04-16  3.807551e+08          230         Jakarta - Utara   \n",
       "3     2023-04-16  9.210000e+17         2670                Jakarta    \n",
       "4     2023-04-16  1.540000e+18          766           Lebak, Banten   \n",
       "...          ...           ...          ...                     ...   \n",
       "9995  2023-01-05  1.070000e+18       541856                     NaN   \n",
       "9996  2023-01-05  1.070000e+18       541856                     NaN   \n",
       "9997  2023-01-05  1.530000e+18          771                  Monaco   \n",
       "9998  2023-01-05  1.600000e+18         3174  Jawa Tengah, Indonesia   \n",
       "9999  2023-01-05  1.620599e+08        27208               INDONESIA   \n",
       "\n",
       "                                                  Tweet     label  \n",
       "0                                  info  anies presiden  Positive  \n",
       "1     politisi partai gerindra sandiaga uno menjawab...  Positive  \n",
       "2      lanjut pak anies kita kawal sampai jadi presiden  Positive  \n",
       "3     semoga allah swt menyelamatkan bangsa dan nega...  Positive  \n",
       "4     chotimah kasian ya pa anies makanya sudah teka...  Positive  \n",
       "...                                                 ...       ...  \n",
       "9995  tidak ada gejolak sara selama membangun pks pu...  Negative  \n",
       "9996  ubedilah mahfud md otak di balik perppu ciptak...  Negative  \n",
       "9997                                my presiden mranies  Negative  \n",
       "9998                                  pa anies presiden  Negative  \n",
       "9999  siapakah yg anda pilih presiden anies baswedan...  Negative  \n",
       "\n",
       "[10000 rows x 6 columns]"
      ]
     },
     "execution_count": 30,
     "metadata": {},
     "output_type": "execute_result"
    }
   ],
   "source": [
    "df_anis"
   ]
  },
  {
   "cell_type": "code",
   "execution_count": 31,
   "metadata": {},
   "outputs": [],
   "source": [
    "df_anis['label','Tweet'] = df_anis['label'].dropna()\n",
    "df_prabowo['label','Tweet'] = df_prabowo['label'].dropna()\n",
    "df_ganjar['label','Tweet'] = df_ganjar['label'].dropna()"
   ]
  },
  {
   "cell_type": "code",
   "execution_count": 34,
   "metadata": {},
   "outputs": [
    {
     "data": {
      "text/plain": [
       "Date                 0\n",
       "User ID              0\n",
       "Tweet Count          0\n",
       "Tweet Location    5040\n",
       "Tweet               66\n",
       "label                3\n",
       "(label, Tweet)       3\n",
       "dtype: int64"
      ]
     },
     "execution_count": 34,
     "metadata": {},
     "output_type": "execute_result"
    }
   ],
   "source": [
    "df_anis.isna().sum()"
   ]
  },
  {
   "cell_type": "code",
   "execution_count": 40,
   "metadata": {},
   "outputs": [],
   "source": [
    "dir = '/Users/fauzanghaza/Coding/'\n",
    "\n",
    "df_anis.to_csv(f'{dir}SocialMediaSentiment/preprocessing/csv/anis.csv')\n",
    "df_prabowo.to_csv(f'{dir}SocialMediaSentiment/preprocessing/csv/prabowo.csv')\n",
    "df_ganjar.to_csv(f'{dir}SocialMediaSentiment/preprocessing/csv/ganjar.csv')"
   ]
  },
  {
   "cell_type": "code",
   "execution_count": null,
   "metadata": {},
   "outputs": [],
   "source": [
    "gabungan = pd.concat(df)"
   ]
  }
 ],
 "metadata": {
  "kernelspec": {
   "display_name": "bismillah",
   "language": "python",
   "name": "python3"
  },
  "language_info": {
   "codemirror_mode": {
    "name": "ipython",
    "version": 3
   },
   "file_extension": ".py",
   "mimetype": "text/x-python",
   "name": "python",
   "nbconvert_exporter": "python",
   "pygments_lexer": "ipython3",
   "version": "3.10.13"
  }
 },
 "nbformat": 4,
 "nbformat_minor": 2
}
