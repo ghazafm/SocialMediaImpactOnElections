{
 "cells": [
  {
   "cell_type": "code",
   "execution_count": 17,
   "metadata": {},
   "outputs": [],
   "source": [
    "import pandas as pd\n",
    "import os\n",
    "from sklearn.model_selection import train_test_split"
   ]
  },
  {
   "cell_type": "code",
   "execution_count": 18,
   "metadata": {},
   "outputs": [],
   "source": [
    "df1_temp = pd.read_csv('https://raw.githubusercontent.com/ghazafm/SocialMediaSentiment/main/Datasets/labeled%20data/Anies%20Baswedan.csv',encoding= 'ISO-8859-1')\n",
    "df_anis = pd.read_csv('https://raw.githubusercontent.com/ghazafm/SocialMediaSentiment/main/Datasets/original%20data/Anies%20Baswedan.csv',encoding= 'ISO-8859-1')\n",
    "df2_temp = pd.read_csv('https://raw.githubusercontent.com/ghazafm/SocialMediaSentiment/main/Datasets/labeled%20data/Prabowo%20Subianto.csv',encoding= 'ISO-8859-1')\n",
    "df_prabowo = pd.read_csv('https://raw.githubusercontent.com/ghazafm/SocialMediaSentiment/main/Datasets/original%20data/Prabowo%20Subianto.csv',encoding= 'ISO-8859-1')\n",
    "df3_temp = pd.read_csv('https://raw.githubusercontent.com/ghazafm/SocialMediaSentiment/main/Datasets/labeled%20data/Ganjar%20Pranowo.csv',encoding= 'ISO-8859-1')\n",
    "df_ganjar = pd.read_csv('https://raw.githubusercontent.com/ghazafm/SocialMediaSentiment/main/Datasets/original%20data/Ganjar%20Pranowo.csv',encoding= 'ISO-8859-1')"
   ]
  },
  {
   "cell_type": "code",
   "execution_count": 19,
   "metadata": {},
   "outputs": [],
   "source": [
    "df_anis['label'] = df1_temp['label']\n",
    "df_prabowo['label'] = df2_temp['label']\n",
    "df_ganjar['label'] = df3_temp['label']\n",
    "\n",
    "df_anis = df_anis[['Tweet','label']]\n",
    "df_prabowo = df_prabowo[['Tweet','label']]\n",
    "df_ganjar = df_ganjar[['Tweet','label']]"
   ]
  },
  {
   "cell_type": "code",
   "execution_count": 20,
   "metadata": {},
   "outputs": [],
   "source": [
    "df_anis.dropna(subset=['Tweet'], inplace=True)\n",
    "df_anis.dropna(subset=['label'], inplace=True)\n",
    "df_anis.drop_duplicates(subset=['Tweet'], inplace=True)\n",
    "\n",
    "df_prabowo.dropna(subset=['Tweet'], inplace=True)\n",
    "df_prabowo.dropna(subset=['label'], inplace=True)\n",
    "df_prabowo.drop_duplicates(subset=['Tweet'], inplace=True)\n",
    "\n",
    "df_ganjar.dropna(subset=['Tweet'], inplace=True)\n",
    "df_ganjar.dropna(subset=['label'], inplace=True)\n",
    "df_ganjar.drop_duplicates(subset=['Tweet'], inplace=True)"
   ]
  },
  {
   "cell_type": "code",
   "execution_count": 21,
   "metadata": {},
   "outputs": [],
   "source": [
    "keyword = ['anis','anies','baswedan']\n",
    "for i in keyword:\n",
    "    df_anis['Tweet'] = df_anis['Tweet'].str.replace(i,'')\n",
    "\n",
    "    keyword = ['prabowo']\n",
    "for i in keyword:\n",
    "    df_prabowo['Tweet'] = df_prabowo['Tweet'].str.replace(i,'')\n",
    "\n",
    "    keyword = ['ganjar']\n",
    "for i in keyword:\n",
    "   df_ganjar['Tweet'] =df_ganjar['Tweet'].str.replace(i,'')"
   ]
  },
  {
   "cell_type": "markdown",
   "metadata": {},
   "source": [
    "Ensemble with undersampling"
   ]
  },
  {
   "cell_type": "code",
   "execution_count": 22,
   "metadata": {},
   "outputs": [],
   "source": [
    "anis_x = df_anis.drop('label',axis='columns')\n",
    "anis_y = df_anis['label']\n",
    "\n",
    "prabowo_x = df_prabowo.drop('label',axis='columns')\n",
    "prabowo_y = df_prabowo['label']\n",
    "\n",
    "ganjar_x = df_ganjar.drop('label',axis='columns')\n",
    "ganjar_y = df_ganjar['label']"
   ]
  },
  {
   "cell_type": "code",
   "execution_count": 23,
   "metadata": {},
   "outputs": [],
   "source": [
    "anis_x_train, anis_x_test, anis_y_train, anis_y_test = train_test_split(anis_x, anis_y, test_size=0.2, random_state=42, stratify= anis_y)\n",
    "prabowo_x_train, prabowo_x_test, prabowo_y_train, prabowo_y_test = train_test_split(prabowo_x, prabowo_y, test_size=0.2, random_state=42, stratify= prabowo_y)\n",
    "ganjar_x_train, ganjar_x_test, ganjar_y_train, ganjar_y_test = train_test_split(ganjar_x, ganjar_y, test_size=0.2, random_state=42, stratify= ganjar_y)"
   ]
  },
  {
   "cell_type": "code",
   "execution_count": 24,
   "metadata": {},
   "outputs": [
    {
     "name": "stdout",
     "output_type": "stream",
     "text": [
      "1.9104294478527608\n",
      "label\n",
      "Positive    4671\n",
      "Negative    2445\n",
      "Name: count, dtype: int64\n"
     ]
    }
   ],
   "source": [
    "print(anis_y_train.value_counts().Positive / anis_y_train.value_counts().Negative )\n",
    "print(anis_y_train.value_counts())"
   ]
  },
  {
   "cell_type": "code",
   "execution_count": 25,
   "metadata": {},
   "outputs": [
    {
     "name": "stdout",
     "output_type": "stream",
     "text": [
      "2.8804270462633452\n",
      "label\n",
      "Positive    4047\n",
      "Negative    1405\n",
      "Name: count, dtype: int64\n"
     ]
    }
   ],
   "source": [
    "print(prabowo_y_train.value_counts().Positive / prabowo_y_train.value_counts().Negative )\n",
    "print(prabowo_y_train.value_counts())"
   ]
  },
  {
   "cell_type": "code",
   "execution_count": 26,
   "metadata": {},
   "outputs": [
    {
     "name": "stdout",
     "output_type": "stream",
     "text": [
      "3.8201219512195124\n",
      "label\n",
      "Positive    5012\n",
      "Negative    1312\n",
      "Name: count, dtype: int64\n"
     ]
    }
   ],
   "source": [
    "print(ganjar_y_train.value_counts().Positive / ganjar_y_train.value_counts().Negative )\n",
    "print(ganjar_y_train.value_counts())"
   ]
  },
  {
   "cell_type": "code",
   "execution_count": 27,
   "metadata": {},
   "outputs": [],
   "source": [
    "temp_anis = anis_x_train.copy()\n",
    "temp_anis['label'] = anis_y_train\n",
    "\n",
    "anis_p = temp_anis[temp_anis.label == 'Positive']\n",
    "anis_n = temp_anis[temp_anis.label == 'Negative']"
   ]
  },
  {
   "cell_type": "code",
   "execution_count": 28,
   "metadata": {},
   "outputs": [],
   "source": [
    "temp_prabowo = prabowo_x_train.copy()\n",
    "temp_prabowo['label'] = prabowo_y_train\n",
    "\n",
    "prabowo_p = temp_prabowo[temp_prabowo.label == 'Positive']\n",
    "prabowo_n = temp_prabowo[temp_prabowo.label == 'Negative']"
   ]
  },
  {
   "cell_type": "code",
   "execution_count": 29,
   "metadata": {},
   "outputs": [],
   "source": [
    "temp_ganjar = ganjar_x_train.copy()\n",
    "temp_ganjar['label'] = ganjar_y_train\n",
    "\n",
    "ganjar_p = temp_ganjar[temp_ganjar.label == 'Positive']\n",
    "ganjar_n = temp_ganjar[temp_ganjar.label == 'Negative']"
   ]
  },
  {
   "cell_type": "code",
   "execution_count": 32,
   "metadata": {},
   "outputs": [],
   "source": [
    "def get_batch(mayor,minor,start,end):\n",
    "    df_train = pd.concat([mayor[start:end],minor])\n",
    "\n",
    "    x_train = df_train.drop('label',axis='columns')\n",
    "    y_train = df_train['label']\n",
    "\n",
    "    return x_train, y_train"
   ]
  },
  {
   "cell_type": "code",
   "execution_count": 33,
   "metadata": {},
   "outputs": [],
   "source": [
    "anis_y_train, anis_x_train = get_batch(anis_p, anis_n,0,1495)\n",
    "prabowo_y_train, prabowo_x_train = get_batch(prabowo_p, prabowo_n,0,1495)\n",
    "ganjar_y_train, ganjar_x_train = get_batch(ganjar_p, ganjar_n,0,1495)"
   ]
  }
 ],
 "metadata": {
  "kernelspec": {
   "display_name": "bismillah",
   "language": "python",
   "name": "python3"
  },
  "language_info": {
   "codemirror_mode": {
    "name": "ipython",
    "version": 3
   },
   "file_extension": ".py",
   "mimetype": "text/x-python",
   "name": "python",
   "nbconvert_exporter": "python",
   "pygments_lexer": "ipython3",
   "version": "3.10.13"
  }
 },
 "nbformat": 4,
 "nbformat_minor": 2
}
