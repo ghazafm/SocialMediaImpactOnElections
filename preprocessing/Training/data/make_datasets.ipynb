{
 "cells": [
  {
   "cell_type": "code",
   "execution_count": 2,
   "metadata": {},
   "outputs": [
    {
     "name": "stderr",
     "output_type": "stream",
     "text": [
      "/var/folders/4f/xq7119ld627_2wyd6dkmwl0m0000gn/T/ipykernel_86498/4080736814.py:1: DeprecationWarning: \n",
      "Pyarrow will become a required dependency of pandas in the next major release of pandas (pandas 3.0),\n",
      "(to allow more performant data types, such as the Arrow string type, and better interoperability with other libraries)\n",
      "but was not found to be installed on your system.\n",
      "If this would cause problems for you,\n",
      "please provide us feedback at https://github.com/pandas-dev/pandas/issues/54466\n",
      "        \n",
      "  import pandas as pd\n"
     ]
    }
   ],
   "source": [
    "import pandas as pd"
   ]
  },
  {
   "cell_type": "code",
   "execution_count": 3,
   "metadata": {},
   "outputs": [],
   "source": [
    "df1_temp = pd.read_csv('https://raw.githubusercontent.com/ghazafm/SocialMediaSentiment/main/Datasets/labeled%20data/Anies%20Baswedan.csv',encoding= 'ISO-8859-1')\n",
    "df_anis = pd.read_csv('https://raw.githubusercontent.com/ghazafm/SocialMediaSentiment/main/Datasets/original%20data/Anies%20Baswedan.csv',encoding= 'ISO-8859-1')\n",
    "df2_temp = pd.read_csv('https://raw.githubusercontent.com/ghazafm/SocialMediaSentiment/main/Datasets/labeled%20data/Prabowo%20Subianto.csv',encoding= 'ISO-8859-1')\n",
    "df_prabowo = pd.read_csv('https://raw.githubusercontent.com/ghazafm/SocialMediaSentiment/main/Datasets/original%20data/Prabowo%20Subianto.csv',encoding= 'ISO-8859-1')\n",
    "df3_temp = pd.read_csv('https://raw.githubusercontent.com/ghazafm/SocialMediaSentiment/main/Datasets/labeled%20data/Ganjar%20Pranowo.csv',encoding= 'ISO-8859-1')\n",
    "df_ganjar = pd.read_csv('https://raw.githubusercontent.com/ghazafm/SocialMediaSentiment/main/Datasets/original%20data/Ganjar%20Pranowo.csv',encoding= 'ISO-8859-1')"
   ]
  },
  {
   "cell_type": "code",
   "execution_count": 4,
   "metadata": {},
   "outputs": [],
   "source": [
    "df_anis['label'] = df1_temp['label']\n",
    "df_prabowo['label'] = df1_temp['label']\n",
    "df_ganjar['label'] = df1_temp['label']"
   ]
  },
  {
   "cell_type": "code",
   "execution_count": 5,
   "metadata": {},
   "outputs": [],
   "source": [
    "df_anis = df_anis[['Tweet','label']]\n",
    "df_prabowo = df_prabowo[['Tweet','label']]\n",
    "df_ganjar = df_ganjar[['Tweet','label']]"
   ]
  },
  {
   "cell_type": "code",
   "execution_count": 7,
   "metadata": {},
   "outputs": [],
   "source": [
    "df_anis.to_csv('anis.csv')\n",
    "df_prabowo.to_csv('prabowo.csv')\n",
    "df_ganjar.to_csv('ganjar.csv')"
   ]
  }
 ],
 "metadata": {
  "kernelspec": {
   "display_name": "bismillah",
   "language": "python",
   "name": "python3"
  },
  "language_info": {
   "codemirror_mode": {
    "name": "ipython",
    "version": 3
   },
   "file_extension": ".py",
   "mimetype": "text/x-python",
   "name": "python",
   "nbconvert_exporter": "python",
   "pygments_lexer": "ipython3",
   "version": "3.10.13"
  }
 },
 "nbformat": 4,
 "nbformat_minor": 2
}
