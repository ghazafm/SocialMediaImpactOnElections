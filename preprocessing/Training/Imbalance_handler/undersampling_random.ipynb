{
 "cells": [
  {
   "cell_type": "code",
   "execution_count": 1,
   "metadata": {},
   "outputs": [
    {
     "name": "stderr",
     "output_type": "stream",
     "text": [
      "/var/folders/4f/xq7119ld627_2wyd6dkmwl0m0000gn/T/ipykernel_98634/3026406390.py:1: DeprecationWarning: \n",
      "Pyarrow will become a required dependency of pandas in the next major release of pandas (pandas 3.0),\n",
      "(to allow more performant data types, such as the Arrow string type, and better interoperability with other libraries)\n",
      "but was not found to be installed on your system.\n",
      "If this would cause problems for you,\n",
      "please provide us feedback at https://github.com/pandas-dev/pandas/issues/54466\n",
      "        \n",
      "  import pandas as pd\n"
     ]
    }
   ],
   "source": [
    "import pandas as pd\n",
    "import os"
   ]
  },
  {
   "cell_type": "code",
   "execution_count": 2,
   "metadata": {},
   "outputs": [],
   "source": [
    "df1_temp = pd.read_csv('https://raw.githubusercontent.com/ghazafm/SocialMediaSentiment/main/Datasets/labeled%20data/Anies%20Baswedan.csv',encoding= 'ISO-8859-1')\n",
    "df_anis = pd.read_csv('https://raw.githubusercontent.com/ghazafm/SocialMediaSentiment/main/Datasets/original%20data/Anies%20Baswedan.csv',encoding= 'ISO-8859-1')\n",
    "df2_temp = pd.read_csv('https://raw.githubusercontent.com/ghazafm/SocialMediaSentiment/main/Datasets/labeled%20data/Prabowo%20Subianto.csv',encoding= 'ISO-8859-1')\n",
    "df_prabowo = pd.read_csv('https://raw.githubusercontent.com/ghazafm/SocialMediaSentiment/main/Datasets/original%20data/Prabowo%20Subianto.csv',encoding= 'ISO-8859-1')\n",
    "df3_temp = pd.read_csv('https://raw.githubusercontent.com/ghazafm/SocialMediaSentiment/main/Datasets/labeled%20data/Ganjar%20Pranowo.csv',encoding= 'ISO-8859-1')\n",
    "df_ganjar = pd.read_csv('https://raw.githubusercontent.com/ghazafm/SocialMediaSentiment/main/Datasets/original%20data/Ganjar%20Pranowo.csv',encoding= 'ISO-8859-1')"
   ]
  },
  {
   "cell_type": "code",
   "execution_count": 3,
   "metadata": {},
   "outputs": [],
   "source": [
    "df_anis['label'] = df1_temp['label']\n",
    "df_prabowo['label'] = df2_temp['label']\n",
    "df_ganjar['label'] = df3_temp['label']\n",
    "\n",
    "df_anis = df_anis[['Tweet','label']]\n",
    "df_prabowo = df_prabowo[['Tweet','label']]\n",
    "df_ganjar = df_ganjar[['Tweet','label']]"
   ]
  },
  {
   "cell_type": "code",
   "execution_count": 4,
   "metadata": {},
   "outputs": [],
   "source": [
    "df_anis.dropna(subset=['Tweet'], inplace=True)\n",
    "df_anis.dropna(subset=['label'], inplace=True)\n",
    "df_anis.drop_duplicates(subset=['Tweet'], inplace=True)\n",
    "\n",
    "df_prabowo.dropna(subset=['Tweet'], inplace=True)\n",
    "df_prabowo.dropna(subset=['label'], inplace=True)\n",
    "df_prabowo.drop_duplicates(subset=['Tweet'], inplace=True)\n",
    "\n",
    "df_ganjar.dropna(subset=['Tweet'], inplace=True)\n",
    "df_ganjar.dropna(subset=['label'], inplace=True)\n",
    "df_ganjar.drop_duplicates(subset=['Tweet'], inplace=True)"
   ]
  },
  {
   "cell_type": "code",
   "execution_count": 5,
   "metadata": {},
   "outputs": [],
   "source": [
    "keyword = ['anis','anies','baswedan']\n",
    "for i in keyword:\n",
    "    df_anis['Tweet'] = df_anis['Tweet'].str.replace(i,'')\n",
    "\n",
    "    keyword = ['prabowo']\n",
    "for i in keyword:\n",
    "    df_prabowo['Tweet'] = df_prabowo['Tweet'].str.replace(i,'')\n",
    "\n",
    "    keyword = ['ganjar']\n",
    "for i in keyword:\n",
    "   df_ganjar['Tweet'] =df_ganjar['Tweet'].str.replace(i,'')"
   ]
  },
  {
   "cell_type": "markdown",
   "metadata": {},
   "source": [
    "Undersampling random (sample)"
   ]
  },
  {
   "cell_type": "code",
   "execution_count": 6,
   "metadata": {},
   "outputs": [
    {
     "data": {
      "text/plain": [
       "label\n",
       "Positive    5839\n",
       "Name: count, dtype: int64"
      ]
     },
     "execution_count": 6,
     "metadata": {},
     "output_type": "execute_result"
    }
   ],
   "source": [
    "anis_p = df_anis[df_anis['label']=='Positive']\n",
    "anis_n = df_anis[df_anis['label']=='Negative']\n",
    "\n",
    "prabowo_p = df_prabowo[df_prabowo['label']=='Positive']\n",
    "prabowo_n = df_prabowo[df_prabowo['label']=='Negative']\n",
    "\n",
    "ganjar_p = df_ganjar[df_ganjar['label']=='Positive']\n",
    "ganjar_n = df_ganjar[df_ganjar['label']=='Negative']\n",
    "\n",
    "anis_p.label.value_counts()"
   ]
  },
  {
   "cell_type": "code",
   "execution_count": 7,
   "metadata": {},
   "outputs": [
    {
     "name": "stdout",
     "output_type": "stream",
     "text": [
      "random under sampling: \n",
      "label\n",
      "Positive    3057\n",
      "Negative    3057\n",
      "Name: count, dtype: int64\n"
     ]
    }
   ],
   "source": [
    "anis_temp = anis_p.sample(anis_n.label.count())\n",
    "anis_under = pd.concat([anis_temp,anis_n],axis=0)\n",
    "\n",
    "print(\"random under sampling: \")\n",
    "print(anis_under.label.value_counts())"
   ]
  },
  {
   "cell_type": "code",
   "execution_count": 8,
   "metadata": {},
   "outputs": [
    {
     "name": "stdout",
     "output_type": "stream",
     "text": [
      "random under sampling: \n",
      "label\n",
      "Positive    1756\n",
      "Negative    1756\n",
      "Name: count, dtype: int64\n"
     ]
    }
   ],
   "source": [
    "prabowo_temp = prabowo_p.sample(prabowo_n.label.count())\n",
    "prabowo_under = pd.concat([prabowo_temp,prabowo_n],axis=0)\n",
    "\n",
    "print(\"random under sampling: \")\n",
    "print(prabowo_under.label.value_counts())"
   ]
  },
  {
   "cell_type": "code",
   "execution_count": 9,
   "metadata": {},
   "outputs": [
    {
     "name": "stdout",
     "output_type": "stream",
     "text": [
      "random under sampling: \n",
      "label\n",
      "Positive    1640\n",
      "Negative    1640\n",
      "Name: count, dtype: int64\n"
     ]
    }
   ],
   "source": [
    "ganjar_temp = ganjar_p.sample(ganjar_n.label.count())\n",
    "ganjar_under = pd.concat([ganjar_temp,ganjar_n],axis=0)\n",
    "\n",
    "print(\"random under sampling: \")\n",
    "print(ganjar_under.label.value_counts())"
   ]
  },
  {
   "cell_type": "code",
   "execution_count": 11,
   "metadata": {},
   "outputs": [],
   "source": [
    "dir = os.getcwd()\n",
    "\n",
    "df_anis.to_csv(f'{dir}/under_random/anis.csv')\n",
    "df_prabowo.to_csv(f'{dir}/under_random/prabowo.csv')\n",
    "df_ganjar.to_csv(f'{dir}/under_random/ganjar.csv')"
   ]
  },
  {
   "cell_type": "code",
   "execution_count": 12,
   "metadata": {},
   "outputs": [],
   "source": [
    "gabungan = pd.concat([df_anis,df_prabowo,df_ganjar])\n",
    "gabungan.to_csv(f'{dir}/under_random/gabungan.csv')"
   ]
  }
 ],
 "metadata": {
  "kernelspec": {
   "display_name": "bismillah",
   "language": "python",
   "name": "python3"
  },
  "language_info": {
   "codemirror_mode": {
    "name": "ipython",
    "version": 3
   },
   "file_extension": ".py",
   "mimetype": "text/x-python",
   "name": "python",
   "nbconvert_exporter": "python",
   "pygments_lexer": "ipython3",
   "version": "3.10.13"
  }
 },
 "nbformat": 4,
 "nbformat_minor": 2
}
