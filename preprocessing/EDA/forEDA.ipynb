{
 "cells": [
  {
   "cell_type": "code",
   "execution_count": 1,
   "metadata": {},
   "outputs": [
    {
     "name": "stderr",
     "output_type": "stream",
     "text": [
      "/var/folders/4f/xq7119ld627_2wyd6dkmwl0m0000gn/T/ipykernel_37053/3026406390.py:1: DeprecationWarning: \n",
      "Pyarrow will become a required dependency of pandas in the next major release of pandas (pandas 3.0),\n",
      "(to allow more performant data types, such as the Arrow string type, and better interoperability with other libraries)\n",
      "but was not found to be installed on your system.\n",
      "If this would cause problems for you,\n",
      "please provide us feedback at https://github.com/pandas-dev/pandas/issues/54466\n",
      "        \n",
      "  import pandas as pd\n"
     ]
    }
   ],
   "source": [
    "import pandas as pd\n",
    "import os"
   ]
  },
  {
   "cell_type": "code",
   "execution_count": 2,
   "metadata": {},
   "outputs": [],
   "source": [
    "df1_temp = pd.read_csv('https://raw.githubusercontent.com/ghazafm/SocialMediaSentiment/main/Datasets/labeled%20data/Anies%20Baswedan.csv',encoding= 'ISO-8859-1')\n",
    "df_anis = pd.read_csv('https://raw.githubusercontent.com/ghazafm/SocialMediaSentiment/main/Datasets/original%20data/Anies%20Baswedan.csv',encoding= 'ISO-8859-1')\n",
    "df2_temp = pd.read_csv('https://raw.githubusercontent.com/ghazafm/SocialMediaSentiment/main/Datasets/labeled%20data/Prabowo%20Subianto.csv',encoding= 'ISO-8859-1')\n",
    "df_prabowo = pd.read_csv('https://raw.githubusercontent.com/ghazafm/SocialMediaSentiment/main/Datasets/original%20data/Prabowo%20Subianto.csv',encoding= 'ISO-8859-1')\n",
    "df3_temp = pd.read_csv('https://raw.githubusercontent.com/ghazafm/SocialMediaSentiment/main/Datasets/labeled%20data/Ganjar%20Pranowo.csv',encoding= 'ISO-8859-1')\n",
    "df_ganjar = pd.read_csv('https://raw.githubusercontent.com/ghazafm/SocialMediaSentiment/main/Datasets/original%20data/Ganjar%20Pranowo.csv',encoding= 'ISO-8859-1')"
   ]
  },
  {
   "cell_type": "code",
   "execution_count": 3,
   "metadata": {},
   "outputs": [],
   "source": [
    "df_anis['label'] = df1_temp['label']\n",
    "df_prabowo['label'] = df2_temp['label']\n",
    "df_ganjar['label'] = df3_temp['label']"
   ]
  },
  {
   "cell_type": "code",
   "execution_count": 4,
   "metadata": {},
   "outputs": [],
   "source": [
    "df_anis = df_anis[['Date','User ID','Tweet Count','Tweet Location','Tweet','label']]\n",
    "df_prabowo = df_prabowo[['Date','User ID','Tweet Count','Tweet Location','Tweet','label']]\n",
    "df_ganjar = df_ganjar[['Date','User ID','Tweet Count','Tweet Location','Tweet','label']]"
   ]
  },
  {
   "cell_type": "code",
   "execution_count": 5,
   "metadata": {},
   "outputs": [],
   "source": [
    "def clean_date(content):\n",
    "    clean = content.split(\" \")\n",
    "    clean = clean[0]\n",
    "    return clean"
   ]
  },
  {
   "cell_type": "code",
   "execution_count": 6,
   "metadata": {},
   "outputs": [],
   "source": [
    "df_anis['Date'] = df_anis['Date'].apply(clean_date)\n",
    "df_prabowo['Date'] = df_prabowo['Date'].apply(clean_date)\n",
    "df_ganjar['Date'] = df_anis['Date'].apply(clean_date)"
   ]
  },
  {
   "cell_type": "code",
   "execution_count": 7,
   "metadata": {},
   "outputs": [],
   "source": [
    "def clean_id(content):\n",
    "    stemmed = str(content)\n",
    "    if 'e' in stemmed:\n",
    "        return None\n",
    "    else:\n",
    "        return stemmed"
   ]
  },
  {
   "cell_type": "code",
   "execution_count": 8,
   "metadata": {},
   "outputs": [],
   "source": [
    "df_anis['User ID'] = df_anis['User ID'].apply(clean_id)\n",
    "df_prabowo['User ID'] = df_prabowo['User ID'].apply(clean_id)\n",
    "df_ganjar['User ID'] = df_anis['User ID'].apply(clean_id)"
   ]
  },
  {
   "cell_type": "code",
   "execution_count": 9,
   "metadata": {},
   "outputs": [
    {
     "name": "stdout",
     "output_type": "stream",
     "text": [
      "<class 'pandas.core.frame.DataFrame'>\n",
      "RangeIndex: 10000 entries, 0 to 9999\n",
      "Data columns (total 6 columns):\n",
      " #   Column          Non-Null Count  Dtype \n",
      "---  ------          --------------  ----- \n",
      " 0   Date            10000 non-null  object\n",
      " 1   User ID         1907 non-null   object\n",
      " 2   Tweet Count     10000 non-null  int64 \n",
      " 3   Tweet Location  4960 non-null   object\n",
      " 4   Tweet           9934 non-null   object\n",
      " 5   label           9997 non-null   object\n",
      "dtypes: int64(1), object(5)\n",
      "memory usage: 468.9+ KB\n"
     ]
    }
   ],
   "source": [
    "df_anis.info()"
   ]
  },
  {
   "cell_type": "code",
   "execution_count": 10,
   "metadata": {},
   "outputs": [],
   "source": [
    "df_anis.dropna(subset=['User ID','Tweet','label'],inplace=True)\n",
    "df_prabowo.dropna(subset=['User ID','Tweet','label'],inplace=True)\n",
    "df_ganjar.dropna(subset=['User ID','Tweet','label'],inplace=True)"
   ]
  },
  {
   "cell_type": "code",
   "execution_count": 11,
   "metadata": {},
   "outputs": [],
   "source": [
    "def get_city(location):\n",
    "    temp = str(location)\n",
    "    temp = temp.split(',')\n",
    "    if temp == 'nan':\n",
    "        return 'None'\n",
    "    return temp[0]\n",
    "\n",
    "# Apply the get_city function to the 'location' column\n",
    "df_anis['city'] = df_anis['Tweet Location'].apply(get_city)\n",
    "df_prabowo['city'] = df_prabowo['Tweet Location'].apply(get_city)\n",
    "df_ganjar['city'] = df_ganjar['Tweet Location'].apply(get_city)"
   ]
  },
  {
   "cell_type": "code",
   "execution_count": 18,
   "metadata": {},
   "outputs": [
    {
     "name": "stderr",
     "output_type": "stream",
     "text": [
      "[nltk_data] Downloading package maxent_ne_chunker to\n",
      "[nltk_data]     /Users/fauzanghaza/nltk_data...\n",
      "[nltk_data]   Package maxent_ne_chunker is already up-to-date!\n",
      "[nltk_data] Downloading package words to\n",
      "[nltk_data]     /Users/fauzanghaza/nltk_data...\n",
      "[nltk_data]   Package words is already up-to-date!\n",
      "[nltk_data] Downloading package treebank to\n",
      "[nltk_data]     /Users/fauzanghaza/nltk_data...\n",
      "[nltk_data]   Package treebank is already up-to-date!\n",
      "[nltk_data] Downloading package maxent_treebank_pos_tagger to\n",
      "[nltk_data]     /Users/fauzanghaza/nltk_data...\n",
      "[nltk_data]   Package maxent_treebank_pos_tagger is already up-to-\n",
      "[nltk_data]       date!\n",
      "[nltk_data] Downloading package punkt to\n",
      "[nltk_data]     /Users/fauzanghaza/nltk_data...\n",
      "[nltk_data]   Package punkt is already up-to-date!\n",
      "[nltk_data] Downloading package averaged_perceptron_tagger to\n",
      "[nltk_data]     /Users/fauzanghaza/nltk_data...\n",
      "[nltk_data]   Package averaged_perceptron_tagger is already up-to-\n",
      "[nltk_data]       date!\n"
     ]
    },
    {
     "data": {
      "text/plain": [
       "True"
      ]
     },
     "execution_count": 18,
     "metadata": {},
     "output_type": "execute_result"
    }
   ],
   "source": [
    "import nltk\n",
    "import spacy\n",
    " \n",
    "# essential entity models downloads\n",
    "nltk.downloader.download('maxent_ne_chunker')\n",
    "nltk.downloader.download('words')\n",
    "nltk.downloader.download('treebank')\n",
    "nltk.downloader.download('maxent_treebank_pos_tagger')\n",
    "nltk.downloader.download('punkt')\n",
    "nltk.download('averaged_perceptron_tagger')"
   ]
  },
  {
   "cell_type": "code",
   "execution_count": 20,
   "metadata": {},
   "outputs": [
    {
     "ename": "OSError",
     "evalue": "[E050] Can't find model 'en_core_web_sm'. It doesn't seem to be a Python package or a valid path to a data directory.",
     "output_type": "error",
     "traceback": [
      "\u001b[0;31m---------------------------------------------------------------------------\u001b[0m",
      "\u001b[0;31mOSError\u001b[0m                                   Traceback (most recent call last)",
      "Cell \u001b[0;32mIn[20], line 1\u001b[0m\n\u001b[0;32m----> 1\u001b[0m \u001b[38;5;28;01mimport\u001b[39;00m \u001b[38;5;21;01mlocationtagger\u001b[39;00m\n\u001b[1;32m      2\u001b[0m \u001b[38;5;28;01mdef\u001b[39;00m \u001b[38;5;21mgot_city\u001b[39m(location):\n\u001b[1;32m      3\u001b[0m     location \u001b[38;5;241m=\u001b[39m locationtagger\u001b[38;5;241m.\u001b[39mfind_locations(text \u001b[38;5;241m=\u001b[39m location)\n",
      "File \u001b[0;32m~/miniconda3/envs/bismillah/lib/python3.10/site-packages/locationtagger/__init__.py:1\u001b[0m\n\u001b[0;32m----> 1\u001b[0m \u001b[38;5;28;01mfrom\u001b[39;00m \u001b[38;5;21;01m.\u001b[39;00m\u001b[38;5;21;01mlocationextractor\u001b[39;00m \u001b[38;5;28;01mimport\u001b[39;00m NamedEntityExtractor, LocationExtractor\n\u001b[1;32m      3\u001b[0m \u001b[38;5;28;01mdef\u001b[39;00m \u001b[38;5;21mfind_locations\u001b[39m(url\u001b[38;5;241m=\u001b[39m\u001b[38;5;28;01mNone\u001b[39;00m, text\u001b[38;5;241m=\u001b[39m\u001b[38;5;28;01mNone\u001b[39;00m):\n\u001b[1;32m      4\u001b[0m     e \u001b[38;5;241m=\u001b[39m NamedEntityExtractor(url\u001b[38;5;241m=\u001b[39murl, text\u001b[38;5;241m=\u001b[39mtext)\n",
      "File \u001b[0;32m~/miniconda3/envs/bismillah/lib/python3.10/site-packages/locationtagger/locationextractor.py:10\u001b[0m\n\u001b[1;32m      8\u001b[0m \u001b[38;5;28;01mimport\u001b[39;00m \u001b[38;5;21;01mspacy\u001b[39;00m\n\u001b[1;32m      9\u001b[0m \u001b[38;5;28;01mfrom\u001b[39;00m \u001b[38;5;21;01mnewspaper\u001b[39;00m \u001b[38;5;28;01mimport\u001b[39;00m Article\n\u001b[0;32m---> 10\u001b[0m nlp \u001b[38;5;241m=\u001b[39m \u001b[43mspacy\u001b[49m\u001b[38;5;241;43m.\u001b[39;49m\u001b[43mload\u001b[49m\u001b[43m(\u001b[49m\u001b[38;5;124;43m'\u001b[39;49m\u001b[38;5;124;43men_core_web_sm\u001b[39;49m\u001b[38;5;124;43m'\u001b[39;49m\u001b[43m)\u001b[49m\n\u001b[1;32m     11\u001b[0m cur_dir \u001b[38;5;241m=\u001b[39m os\u001b[38;5;241m.\u001b[39mpath\u001b[38;5;241m.\u001b[39mdirname(os\u001b[38;5;241m.\u001b[39mpath\u001b[38;5;241m.\u001b[39mrealpath(\u001b[38;5;18m__file__\u001b[39m))\n\u001b[1;32m     12\u001b[0m \u001b[38;5;28;01mwith\u001b[39;00m \u001b[38;5;28mopen\u001b[39m(cur_dir \u001b[38;5;241m+\u001b[39m \u001b[38;5;124m\"\u001b[39m\u001b[38;5;124m/data/words_to_ignore.csv\u001b[39m\u001b[38;5;124m\"\u001b[39m) \u001b[38;5;28;01mas\u001b[39;00m file:\n",
      "File \u001b[0;32m~/miniconda3/envs/bismillah/lib/python3.10/site-packages/spacy/__init__.py:51\u001b[0m, in \u001b[0;36mload\u001b[0;34m(name, vocab, disable, enable, exclude, config)\u001b[0m\n\u001b[1;32m     27\u001b[0m \u001b[38;5;28;01mdef\u001b[39;00m \u001b[38;5;21mload\u001b[39m(\n\u001b[1;32m     28\u001b[0m     name: Union[\u001b[38;5;28mstr\u001b[39m, Path],\n\u001b[1;32m     29\u001b[0m     \u001b[38;5;241m*\u001b[39m,\n\u001b[0;32m   (...)\u001b[0m\n\u001b[1;32m     34\u001b[0m     config: Union[Dict[\u001b[38;5;28mstr\u001b[39m, Any], Config] \u001b[38;5;241m=\u001b[39m util\u001b[38;5;241m.\u001b[39mSimpleFrozenDict(),\n\u001b[1;32m     35\u001b[0m ) \u001b[38;5;241m-\u001b[39m\u001b[38;5;241m>\u001b[39m Language:\n\u001b[1;32m     36\u001b[0m \u001b[38;5;250m    \u001b[39m\u001b[38;5;124;03m\"\"\"Load a spaCy model from an installed package or a local path.\u001b[39;00m\n\u001b[1;32m     37\u001b[0m \n\u001b[1;32m     38\u001b[0m \u001b[38;5;124;03m    name (str): Package name or model path.\u001b[39;00m\n\u001b[0;32m   (...)\u001b[0m\n\u001b[1;32m     49\u001b[0m \u001b[38;5;124;03m    RETURNS (Language): The loaded nlp object.\u001b[39;00m\n\u001b[1;32m     50\u001b[0m \u001b[38;5;124;03m    \"\"\"\u001b[39;00m\n\u001b[0;32m---> 51\u001b[0m     \u001b[38;5;28;01mreturn\u001b[39;00m \u001b[43mutil\u001b[49m\u001b[38;5;241;43m.\u001b[39;49m\u001b[43mload_model\u001b[49m\u001b[43m(\u001b[49m\n\u001b[1;32m     52\u001b[0m \u001b[43m        \u001b[49m\u001b[43mname\u001b[49m\u001b[43m,\u001b[49m\n\u001b[1;32m     53\u001b[0m \u001b[43m        \u001b[49m\u001b[43mvocab\u001b[49m\u001b[38;5;241;43m=\u001b[39;49m\u001b[43mvocab\u001b[49m\u001b[43m,\u001b[49m\n\u001b[1;32m     54\u001b[0m \u001b[43m        \u001b[49m\u001b[43mdisable\u001b[49m\u001b[38;5;241;43m=\u001b[39;49m\u001b[43mdisable\u001b[49m\u001b[43m,\u001b[49m\n\u001b[1;32m     55\u001b[0m \u001b[43m        \u001b[49m\u001b[43menable\u001b[49m\u001b[38;5;241;43m=\u001b[39;49m\u001b[43menable\u001b[49m\u001b[43m,\u001b[49m\n\u001b[1;32m     56\u001b[0m \u001b[43m        \u001b[49m\u001b[43mexclude\u001b[49m\u001b[38;5;241;43m=\u001b[39;49m\u001b[43mexclude\u001b[49m\u001b[43m,\u001b[49m\n\u001b[1;32m     57\u001b[0m \u001b[43m        \u001b[49m\u001b[43mconfig\u001b[49m\u001b[38;5;241;43m=\u001b[39;49m\u001b[43mconfig\u001b[49m\u001b[43m,\u001b[49m\n\u001b[1;32m     58\u001b[0m \u001b[43m    \u001b[49m\u001b[43m)\u001b[49m\n",
      "File \u001b[0;32m~/miniconda3/envs/bismillah/lib/python3.10/site-packages/spacy/util.py:472\u001b[0m, in \u001b[0;36mload_model\u001b[0;34m(name, vocab, disable, enable, exclude, config)\u001b[0m\n\u001b[1;32m    470\u001b[0m \u001b[38;5;28;01mif\u001b[39;00m name \u001b[38;5;129;01min\u001b[39;00m OLD_MODEL_SHORTCUTS:\n\u001b[1;32m    471\u001b[0m     \u001b[38;5;28;01mraise\u001b[39;00m \u001b[38;5;167;01mIOError\u001b[39;00m(Errors\u001b[38;5;241m.\u001b[39mE941\u001b[38;5;241m.\u001b[39mformat(name\u001b[38;5;241m=\u001b[39mname, full\u001b[38;5;241m=\u001b[39mOLD_MODEL_SHORTCUTS[name]))  \u001b[38;5;66;03m# type: ignore[index]\u001b[39;00m\n\u001b[0;32m--> 472\u001b[0m \u001b[38;5;28;01mraise\u001b[39;00m \u001b[38;5;167;01mIOError\u001b[39;00m(Errors\u001b[38;5;241m.\u001b[39mE050\u001b[38;5;241m.\u001b[39mformat(name\u001b[38;5;241m=\u001b[39mname))\n",
      "\u001b[0;31mOSError\u001b[0m: [E050] Can't find model 'en_core_web_sm'. It doesn't seem to be a Python package or a valid path to a data directory."
     ]
    }
   ],
   "source": [
    "\n",
    "import locationtagger\n",
    "def got_city(location):\n",
    "    location = locationtagger.find_locations(text = location)\n",
    "    return location.country_cities\n",
    "\n",
    "def got_city2(location):\n",
    "    location = locationtagger.find_locations(text = location)\n",
    "    return location.country_cities"
   ]
  },
  {
   "cell_type": "code",
   "execution_count": null,
   "metadata": {},
   "outputs": [
    {
     "ename": "NameError",
     "evalue": "name 'locationtagger' is not defined",
     "output_type": "error",
     "traceback": [
      "\u001b[0;31m---------------------------------------------------------------------------\u001b[0m",
      "\u001b[0;31mNameError\u001b[0m                                 Traceback (most recent call last)",
      "Cell \u001b[0;32mIn[39], line 1\u001b[0m\n\u001b[0;32m----> 1\u001b[0m df_anis[\u001b[38;5;124m'\u001b[39m\u001b[38;5;124mcito\u001b[39m\u001b[38;5;124m'\u001b[39m] \u001b[38;5;241m=\u001b[39m \u001b[43mdf_anis\u001b[49m\u001b[43m[\u001b[49m\u001b[38;5;124;43m'\u001b[39;49m\u001b[38;5;124;43mTweet Location\u001b[39;49m\u001b[38;5;124;43m'\u001b[39;49m\u001b[43m]\u001b[49m\u001b[38;5;241;43m.\u001b[39;49m\u001b[43mapply\u001b[49m\u001b[43m(\u001b[49m\u001b[43mgot_city\u001b[49m\u001b[43m)\u001b[49m\n\u001b[1;32m      2\u001b[0m df_anis[\u001b[38;5;124m'\u001b[39m\u001b[38;5;124mcito2\u001b[39m\u001b[38;5;124m'\u001b[39m] \u001b[38;5;241m=\u001b[39m df_anis[\u001b[38;5;124m'\u001b[39m\u001b[38;5;124mTweet Location\u001b[39m\u001b[38;5;124m'\u001b[39m]\u001b[38;5;241m.\u001b[39mapply(got_city2)\n",
      "File \u001b[0;32m~/miniconda3/envs/bismillah/lib/python3.10/site-packages/pandas/core/series.py:4904\u001b[0m, in \u001b[0;36mSeries.apply\u001b[0;34m(self, func, convert_dtype, args, by_row, **kwargs)\u001b[0m\n\u001b[1;32m   4769\u001b[0m \u001b[38;5;28;01mdef\u001b[39;00m \u001b[38;5;21mapply\u001b[39m(\n\u001b[1;32m   4770\u001b[0m     \u001b[38;5;28mself\u001b[39m,\n\u001b[1;32m   4771\u001b[0m     func: AggFuncType,\n\u001b[0;32m   (...)\u001b[0m\n\u001b[1;32m   4776\u001b[0m     \u001b[38;5;241m*\u001b[39m\u001b[38;5;241m*\u001b[39mkwargs,\n\u001b[1;32m   4777\u001b[0m ) \u001b[38;5;241m-\u001b[39m\u001b[38;5;241m>\u001b[39m DataFrame \u001b[38;5;241m|\u001b[39m Series:\n\u001b[1;32m   4778\u001b[0m \u001b[38;5;250m    \u001b[39m\u001b[38;5;124;03m\"\"\"\u001b[39;00m\n\u001b[1;32m   4779\u001b[0m \u001b[38;5;124;03m    Invoke function on values of Series.\u001b[39;00m\n\u001b[1;32m   4780\u001b[0m \n\u001b[0;32m   (...)\u001b[0m\n\u001b[1;32m   4895\u001b[0m \u001b[38;5;124;03m    dtype: float64\u001b[39;00m\n\u001b[1;32m   4896\u001b[0m \u001b[38;5;124;03m    \"\"\"\u001b[39;00m\n\u001b[1;32m   4897\u001b[0m     \u001b[38;5;28;01mreturn\u001b[39;00m \u001b[43mSeriesApply\u001b[49m\u001b[43m(\u001b[49m\n\u001b[1;32m   4898\u001b[0m \u001b[43m        \u001b[49m\u001b[38;5;28;43mself\u001b[39;49m\u001b[43m,\u001b[49m\n\u001b[1;32m   4899\u001b[0m \u001b[43m        \u001b[49m\u001b[43mfunc\u001b[49m\u001b[43m,\u001b[49m\n\u001b[1;32m   4900\u001b[0m \u001b[43m        \u001b[49m\u001b[43mconvert_dtype\u001b[49m\u001b[38;5;241;43m=\u001b[39;49m\u001b[43mconvert_dtype\u001b[49m\u001b[43m,\u001b[49m\n\u001b[1;32m   4901\u001b[0m \u001b[43m        \u001b[49m\u001b[43mby_row\u001b[49m\u001b[38;5;241;43m=\u001b[39;49m\u001b[43mby_row\u001b[49m\u001b[43m,\u001b[49m\n\u001b[1;32m   4902\u001b[0m \u001b[43m        \u001b[49m\u001b[43margs\u001b[49m\u001b[38;5;241;43m=\u001b[39;49m\u001b[43margs\u001b[49m\u001b[43m,\u001b[49m\n\u001b[1;32m   4903\u001b[0m \u001b[43m        \u001b[49m\u001b[43mkwargs\u001b[49m\u001b[38;5;241;43m=\u001b[39;49m\u001b[43mkwargs\u001b[49m\u001b[43m,\u001b[49m\n\u001b[0;32m-> 4904\u001b[0m \u001b[43m    \u001b[49m\u001b[43m)\u001b[49m\u001b[38;5;241;43m.\u001b[39;49m\u001b[43mapply\u001b[49m\u001b[43m(\u001b[49m\u001b[43m)\u001b[49m\n",
      "File \u001b[0;32m~/miniconda3/envs/bismillah/lib/python3.10/site-packages/pandas/core/apply.py:1427\u001b[0m, in \u001b[0;36mSeriesApply.apply\u001b[0;34m(self)\u001b[0m\n\u001b[1;32m   1424\u001b[0m     \u001b[38;5;28;01mreturn\u001b[39;00m \u001b[38;5;28mself\u001b[39m\u001b[38;5;241m.\u001b[39mapply_compat()\n\u001b[1;32m   1426\u001b[0m \u001b[38;5;66;03m# self.func is Callable\u001b[39;00m\n\u001b[0;32m-> 1427\u001b[0m \u001b[38;5;28;01mreturn\u001b[39;00m \u001b[38;5;28;43mself\u001b[39;49m\u001b[38;5;241;43m.\u001b[39;49m\u001b[43mapply_standard\u001b[49m\u001b[43m(\u001b[49m\u001b[43m)\u001b[49m\n",
      "File \u001b[0;32m~/miniconda3/envs/bismillah/lib/python3.10/site-packages/pandas/core/apply.py:1507\u001b[0m, in \u001b[0;36mSeriesApply.apply_standard\u001b[0;34m(self)\u001b[0m\n\u001b[1;32m   1501\u001b[0m \u001b[38;5;66;03m# row-wise access\u001b[39;00m\n\u001b[1;32m   1502\u001b[0m \u001b[38;5;66;03m# apply doesn't have a `na_action` keyword and for backward compat reasons\u001b[39;00m\n\u001b[1;32m   1503\u001b[0m \u001b[38;5;66;03m# we need to give `na_action=\"ignore\"` for categorical data.\u001b[39;00m\n\u001b[1;32m   1504\u001b[0m \u001b[38;5;66;03m# TODO: remove the `na_action=\"ignore\"` when that default has been changed in\u001b[39;00m\n\u001b[1;32m   1505\u001b[0m \u001b[38;5;66;03m#  Categorical (GH51645).\u001b[39;00m\n\u001b[1;32m   1506\u001b[0m action \u001b[38;5;241m=\u001b[39m \u001b[38;5;124m\"\u001b[39m\u001b[38;5;124mignore\u001b[39m\u001b[38;5;124m\"\u001b[39m \u001b[38;5;28;01mif\u001b[39;00m \u001b[38;5;28misinstance\u001b[39m(obj\u001b[38;5;241m.\u001b[39mdtype, CategoricalDtype) \u001b[38;5;28;01melse\u001b[39;00m \u001b[38;5;28;01mNone\u001b[39;00m\n\u001b[0;32m-> 1507\u001b[0m mapped \u001b[38;5;241m=\u001b[39m \u001b[43mobj\u001b[49m\u001b[38;5;241;43m.\u001b[39;49m\u001b[43m_map_values\u001b[49m\u001b[43m(\u001b[49m\n\u001b[1;32m   1508\u001b[0m \u001b[43m    \u001b[49m\u001b[43mmapper\u001b[49m\u001b[38;5;241;43m=\u001b[39;49m\u001b[43mcurried\u001b[49m\u001b[43m,\u001b[49m\u001b[43m \u001b[49m\u001b[43mna_action\u001b[49m\u001b[38;5;241;43m=\u001b[39;49m\u001b[43maction\u001b[49m\u001b[43m,\u001b[49m\u001b[43m \u001b[49m\u001b[43mconvert\u001b[49m\u001b[38;5;241;43m=\u001b[39;49m\u001b[38;5;28;43mself\u001b[39;49m\u001b[38;5;241;43m.\u001b[39;49m\u001b[43mconvert_dtype\u001b[49m\n\u001b[1;32m   1509\u001b[0m \u001b[43m\u001b[49m\u001b[43m)\u001b[49m\n\u001b[1;32m   1511\u001b[0m \u001b[38;5;28;01mif\u001b[39;00m \u001b[38;5;28mlen\u001b[39m(mapped) \u001b[38;5;129;01mand\u001b[39;00m \u001b[38;5;28misinstance\u001b[39m(mapped[\u001b[38;5;241m0\u001b[39m], ABCSeries):\n\u001b[1;32m   1512\u001b[0m     \u001b[38;5;66;03m# GH#43986 Need to do list(mapped) in order to get treated as nested\u001b[39;00m\n\u001b[1;32m   1513\u001b[0m     \u001b[38;5;66;03m#  See also GH#25959 regarding EA support\u001b[39;00m\n\u001b[1;32m   1514\u001b[0m     \u001b[38;5;28;01mreturn\u001b[39;00m obj\u001b[38;5;241m.\u001b[39m_constructor_expanddim(\u001b[38;5;28mlist\u001b[39m(mapped), index\u001b[38;5;241m=\u001b[39mobj\u001b[38;5;241m.\u001b[39mindex)\n",
      "File \u001b[0;32m~/miniconda3/envs/bismillah/lib/python3.10/site-packages/pandas/core/base.py:921\u001b[0m, in \u001b[0;36mIndexOpsMixin._map_values\u001b[0;34m(self, mapper, na_action, convert)\u001b[0m\n\u001b[1;32m    918\u001b[0m \u001b[38;5;28;01mif\u001b[39;00m \u001b[38;5;28misinstance\u001b[39m(arr, ExtensionArray):\n\u001b[1;32m    919\u001b[0m     \u001b[38;5;28;01mreturn\u001b[39;00m arr\u001b[38;5;241m.\u001b[39mmap(mapper, na_action\u001b[38;5;241m=\u001b[39mna_action)\n\u001b[0;32m--> 921\u001b[0m \u001b[38;5;28;01mreturn\u001b[39;00m \u001b[43malgorithms\u001b[49m\u001b[38;5;241;43m.\u001b[39;49m\u001b[43mmap_array\u001b[49m\u001b[43m(\u001b[49m\u001b[43marr\u001b[49m\u001b[43m,\u001b[49m\u001b[43m \u001b[49m\u001b[43mmapper\u001b[49m\u001b[43m,\u001b[49m\u001b[43m \u001b[49m\u001b[43mna_action\u001b[49m\u001b[38;5;241;43m=\u001b[39;49m\u001b[43mna_action\u001b[49m\u001b[43m,\u001b[49m\u001b[43m \u001b[49m\u001b[43mconvert\u001b[49m\u001b[38;5;241;43m=\u001b[39;49m\u001b[43mconvert\u001b[49m\u001b[43m)\u001b[49m\n",
      "File \u001b[0;32m~/miniconda3/envs/bismillah/lib/python3.10/site-packages/pandas/core/algorithms.py:1743\u001b[0m, in \u001b[0;36mmap_array\u001b[0;34m(arr, mapper, na_action, convert)\u001b[0m\n\u001b[1;32m   1741\u001b[0m values \u001b[38;5;241m=\u001b[39m arr\u001b[38;5;241m.\u001b[39mastype(\u001b[38;5;28mobject\u001b[39m, copy\u001b[38;5;241m=\u001b[39m\u001b[38;5;28;01mFalse\u001b[39;00m)\n\u001b[1;32m   1742\u001b[0m \u001b[38;5;28;01mif\u001b[39;00m na_action \u001b[38;5;129;01mis\u001b[39;00m \u001b[38;5;28;01mNone\u001b[39;00m:\n\u001b[0;32m-> 1743\u001b[0m     \u001b[38;5;28;01mreturn\u001b[39;00m \u001b[43mlib\u001b[49m\u001b[38;5;241;43m.\u001b[39;49m\u001b[43mmap_infer\u001b[49m\u001b[43m(\u001b[49m\u001b[43mvalues\u001b[49m\u001b[43m,\u001b[49m\u001b[43m \u001b[49m\u001b[43mmapper\u001b[49m\u001b[43m,\u001b[49m\u001b[43m \u001b[49m\u001b[43mconvert\u001b[49m\u001b[38;5;241;43m=\u001b[39;49m\u001b[43mconvert\u001b[49m\u001b[43m)\u001b[49m\n\u001b[1;32m   1744\u001b[0m \u001b[38;5;28;01melse\u001b[39;00m:\n\u001b[1;32m   1745\u001b[0m     \u001b[38;5;28;01mreturn\u001b[39;00m lib\u001b[38;5;241m.\u001b[39mmap_infer_mask(\n\u001b[1;32m   1746\u001b[0m         values, mapper, mask\u001b[38;5;241m=\u001b[39misna(values)\u001b[38;5;241m.\u001b[39mview(np\u001b[38;5;241m.\u001b[39muint8), convert\u001b[38;5;241m=\u001b[39mconvert\n\u001b[1;32m   1747\u001b[0m     )\n",
      "File \u001b[0;32mlib.pyx:2972\u001b[0m, in \u001b[0;36mpandas._libs.lib.map_infer\u001b[0;34m()\u001b[0m\n",
      "Cell \u001b[0;32mIn[38], line 2\u001b[0m, in \u001b[0;36mgot_city\u001b[0;34m(location)\u001b[0m\n\u001b[1;32m      1\u001b[0m \u001b[38;5;28;01mdef\u001b[39;00m \u001b[38;5;21mgot_city\u001b[39m(location):\n\u001b[0;32m----> 2\u001b[0m     location \u001b[38;5;241m=\u001b[39m \u001b[43mlocationtagger\u001b[49m\u001b[38;5;241m.\u001b[39mfind_locations(text \u001b[38;5;241m=\u001b[39m location)\n\u001b[1;32m      3\u001b[0m     \u001b[38;5;28;01mreturn\u001b[39;00m location\u001b[38;5;241m.\u001b[39mcountry_cities\n",
      "\u001b[0;31mNameError\u001b[0m: name 'locationtagger' is not defined"
     ]
    }
   ],
   "source": [
    "df_anis['cito'] = df_anis['Tweet Location'].apply(got_city)\n",
    "df_anis['cito2'] = df_anis['Tweet Location'].apply(got_city2)"
   ]
  },
  {
   "cell_type": "code",
   "execution_count": null,
   "metadata": {},
   "outputs": [],
   "source": [
    "dir = os.getcwd()\n",
    "\n",
    "df_anis.to_csv(f'{dir}/datasets/anis.csv')\n",
    "df_prabowo.to_csv(f'{dir}/datasets/prabowo.csv')\n",
    "df_ganjar.to_csv(f'{dir}/datasets/ganjar.csv')"
   ]
  },
  {
   "cell_type": "code",
   "execution_count": null,
   "metadata": {},
   "outputs": [],
   "source": [
    "gabungan = pd.concat([df_anis,df_prabowo,df_ganjar])\n",
    "gabungan.to_csv(f'{dir}/datasets/gabungan.csv')"
   ]
  },
  {
   "cell_type": "code",
   "execution_count": null,
   "metadata": {},
   "outputs": [
    {
     "data": {
      "text/plain": [
       "array(['Palmerah', 'Jakarta - Utara', 'Jawa Barat', 'Tangerang Selatan',\n",
       "       'Pati', 'nan', 'Kota Surabaya', 'Jakarta Capital Region',\n",
       "       'Tomage-Fakfak', 'Jakarta', 'dki jakarta', 'kota tangerang',\n",
       "       'San Andreas', 'DKI Jakarta', 'kopaja 62', '267', 'Pakuan Ratu',\n",
       "       'Auckland', 'MAKASSAR', 'Dunia', 'Tuban', 'Pulo Gadung',\n",
       "       'jeddah ksa', 'jakarta', 'Indonesia', 'Telukdalam', 'kisaran',\n",
       "       'Sumenep', 'Singapur', 'Kaki Langit', 'TB. Simatupang No. 82',\n",
       "       'Kuala Lumpur', 'United States', 'Bogor', 'Gunung Putri', 'Ambon',\n",
       "       'Pekanbaru', 'Sidoarjo', 'Cimahi', 'another side', 'Bandung',\n",
       "       'surabaya indonesia', 'Kota Makassar',\n",
       "       'nusantara raya ð\\x9f\\x87®ð\\x9f\\x87©', 'Kota Bandung', 'Bekasi',\n",
       "       'Pangkalpinang | N.K.R.I', 'In her dream...', 'Jakarta Timur',\n",
       "       'kota bekasi', 'Makasar', 'Denpasar Selatan',\n",
       "       'Dimana mana hatiku senang', 'Semarang', 'Paris', 'BaLi Indonesia',\n",
       "       'Medan - Tanggerang', 'Alquds.Palestine', 'Jakarta-Indonesia',\n",
       "       'Jd pemimpin yg amanah.', 'Dalam jangkauan google map',\n",
       "       'jakarta indonesia', 'Cilegon Banten', 'Sic Mundus Creatus Est',\n",
       "       'Kota Pahlawan Suroboyoð\\x9f\\x87²ð\\x9f\\x87¨', 'Indonesia ',\n",
       "       'Serang', 'Bali', 'bumi Allah', 'indonesia', 'Warsaw', 'Kendal',\n",
       "       'Jakarta City', 'Negari ngalengko',\n",
       "       'Jl Jend Sudirman 52 Yogyakarta', 'Jakarta Pusat', 'Istana',\n",
       "       'JKT-INA', 'banjarmasin', 'Pekan Baru', 'IT Profesionals/ Tech/ ',\n",
       "       'Kota Gunung Lawu', 'Franklin', 'Bekasi Selatan',\n",
       "       'Timur Indonesia', 'Recife', 'south borneo', 'Jakarta ',\n",
       "       'Next Level 30st Henry Bird', 'Jakarta Selatan', 'INDONESIA',\n",
       "       'NKRI', 'Yogyakarta', 'East Java', 'Bandung - Tasikmalaya',\n",
       "       'Tangsel', 'Majapahit Selatan', 'Togogland', 'Medan Sunggal',\n",
       "       'Jakarta - Indonesia', 'Kep.Riau - Batam - Indonesia',\n",
       "       'Bekasi Barat', 'Alam Bawah Sadar', 'Jawa Tengah', 'DKI.Jakarta',\n",
       "       'Jakarta Utara', 'Lombok Island', 'Ubud',\n",
       "       'Medan  -  North Sumatera', '@Depok-Jakarta-Cirebon',\n",
       "       'Ã\\x9cT: -6.177799', 'Rahasia', 'jakarta - indonesia', 'Cileungsi',\n",
       "       'Indonesiað\\x9f\\x87®ð\\x9f\\x87©', 'Kota Tangerang', 'Banten',\n",
       "       'Makassar', 'SUNDA Empire', 'Lombok', 'Republik Nabhan',\n",
       "       'Ð\\x98Ð½Ð´Ð¾Ð½ÐµÐ·Ð¸Ñ\\x8f', 'bandung', 'Bandung Kulon',\n",
       "       'Jakarta Barat', 'Pasar Kliwon', 'Grogol Jakarta',\n",
       "       'Bandar Lampung', 'Tebing Tinggi - Sumatera Utara',\n",
       "       'Jakarta-Yogyakarta-Solo', 'Sulsel Indonesia', 'Mataram',\n",
       "       'Indonesian Country', 'IDN-World', 'Sulawesi Selatan',\n",
       "       'jakarta selatan', 'Jambi', 'Pekanbaru Riau', 'Whaat ???', 'Kuta',\n",
       "       'Medan', 'Sulawesi Tengah', 'Surabaya', 'On Earth', 'Here',\n",
       "       'Buton Utara Sulawesi Tenggara', 'Wonokromo',\n",
       "       'Rangkasbitung-Banten', 'Kalimantan Timur',\n",
       "       'Ciangsana Gn Putri - Kab Bogor', 'Kota Pekanbaru',\n",
       "       'Pandeglang Banten', 'Purwokerto', 'Denpasar Bali Indonesia',\n",
       "       'Jalan Bani Bu Hasan', 'Tangerang', 'Depok', 'Tasikmalaya',\n",
       "       'Southern Hill of West Java', 'ditengah gurun ð\\x9f\\x90« ',\n",
       "       'Washington', 'Bima Sakti', 'Jakarta Indonesia', 'Lumajang', 'GPS',\n",
       "       'Madinah Al Munawarah', 'BIMA', 'Aceh', 'DKI Jakarta ', 'Gresik',\n",
       "       'the pale blue dot', 'DI. Yogyakarta', 'Priangan Jawa Barat',\n",
       "       'Petamburan', 'special', 'Lampung Utara', 'Garut',\n",
       "       'Kepri - Indonesia ', 'Sumatera Barat', 'Lampung',\n",
       "       'Province of Moscow', ' Indonesia', 'BANDAR LAMPUNG',\n",
       "       'redaksi@mojok.co', 'Kota Batam', 'Bantul Jogjakarta', 'Cilacap',\n",
       "       'Koja', 'Sumedang - Jawa Barat', 'Solok selatan',\n",
       "       'Kalimantan Barat', 'Krian', 'Bondowoso', 'Ã\\x9cT: -6.238694',\n",
       "       'iNews Tower', 'Indonesia Pusaka', 'East of Java', 'Kota Depok',\n",
       "       'iNews Tower Jakarta', 'Jawa Barat - Indonesia',\n",
       "       'Lubuklinggau sumsel Indonesia', 'Palembang',\n",
       "       'Jl Raya Tegar Beriman Cibinong', 'Cianjur', 'JAKARTA', 'Riau',\n",
       "       'Pasar minggu - Jakarta Selatan', 'Purwokerto Selatan',\n",
       "       'Jatipadang', 'Setia Budi', 'Kota Serang', 'Pati - Central Java',\n",
       "       'Tegal', 'Tegal Jawa Tengah Indonesia', 'Bekasi - Indonesia',\n",
       "       'Balikpapan', 'Dimana saja Allah berkehendak', 'Menteng',\n",
       "       'Pada Hati dan Nurani yg jernih', 'yogyakarta', 'Kota Baru ',\n",
       "       'Kupang', 'Markas efpiay Petamburan JKT', 'Denpasar',\n",
       "       'Kalimantan Selatan', 'Kota Pekalongan', 'Badung',\n",
       "       'Lubai Sumatera Selatan', 'Al Adailiya', 'Jakarta - Singapore',\n",
       "       'Kelapa Gading', 'Kebumen Indonesia', 'Namekian',\n",
       "       'Ã\\x9cT: -6.289942', 'tangerang', 'Nusantara', 'Enderby', 'Alaska',\n",
       "       'Ciledug', 'Bumi Allah', 'Di Bumi Allah',\n",
       "       'PT. FREEPORT INDONESIA {PAPUA}', 'Cikampek', 'Cengkareng',\n",
       "       'pekanbaru', 'Sukabumi', 'Ã\\x9cT: -6.81535', 'Earth',\n",
       "       'Kota Palembang', 'CEPU', 'Dibawah langit biru',\n",
       "       '7 oceans 7 continents', 'Î¹Ð¸â\\x88\\x82Ï\\x83Ð¸Ñ\\x94Ñ\\x95Î¹Î±',\n",
       "       'Kobe City', 'Apart Prada Menteng', 'Terra Incognita', 'medan',\n",
       "       ' Java n bali', 'Bima', 'Malang', 'BUMI NYA PENJAHAT KEBIJAKAN',\n",
       "       'Lampung Timur', 'bekasi', 'London - Jakarta',\n",
       "       'Padang - Indonesia', 'Penambangan', 'Jawa Timur', 'Kota Sidoarjo',\n",
       "       'Cianjur ', 'sungailiat babel', 'Palembang - Indonesia',\n",
       "       'Banjarmasin', 'Depok city', 'surabaya',\n",
       "       'Gintung_Chandraca_Red Komplexs', 'Los Santos', 'California',\n",
       "       'Jakarta - Serang - Indonesia', 'sumbar indonesia',\n",
       "       \"Heaven's Road\", 'Dihati IU', 'Kota Malang', 'TURIN', 'Banda Aceh',\n",
       "       'Jakarta selatan', 'Samarinda', 'Senayan-Jakarta', 'Maluku',\n",
       "       'PANCASILA SAKTI', 'Pulau Impian', 'sumatra', 'â\\x9d¤Indonesia',\n",
       "       'Cirebon Barat', 'Belgique', 'Niyugan', 'UT: -6.301848',\n",
       "       'Ã\\x9cT: 2.932501', 'Ã\\x9cT: 0.491252', 'unfinished pyramid',\n",
       "       'Tokyo ', 'nunukan', 'Banjarmasin - Yogyakarta ',\n",
       "       'Around the globe.', 'Beji', 'Rantauprapat', 'Padang', 'Borneo',\n",
       "       'Singapore', 'Iban Borneo', 'Utara Bandung ',\n",
       "       'Medan - Sumatera Utara', 'Blossomville ð\\x9f\\x8c¹', 'Ohio',\n",
       "       'Indonesia â\\x99¥', 'Parung', 'Ã\\x9cT: -7.005653', 'IKN NUSANTARA',\n",
       "       'dunia nyata', 'Johar Baru', 'kaltim', 'Java Island Tengah',\n",
       "       'Denpasar Bali', 'Kebumen', 'KPK', 'Medan Baru', 'Bekasi Timur',\n",
       "       'ÜT: -6.1389099', 'Senayan Jakarta Selatan', 'ÜT: -6.3480548',\n",
       "       'Bandung ', 'chemin du ciel | rue servient', 'Sisi Cai',\n",
       "       'semarang', 'Antarctica', 'Manado', 'Kalibata City Jaksel',\n",
       "       'Kepulauan Riau', '??', 'so?ewhere over the rainbow',\n",
       "       'Indonesia tercinta', '62', 'Pertigaan pasar jongkok', 'Minahasa',\n",
       "       'ÜT: -6.279115', 'Key West', 'PlongoLand',\n",
       "       'Indonesia is my lovely country', 'Bogor ', 'indsonesia asia',\n",
       "       'Mandonga - Kendari - SULTRA', 'Nowhere', 'Sangkulirang',\n",
       "       'ÜT: -6.14979', 'Pekalongan', 'Waingapu', 'Bekasi utara',\n",
       "       'pekan baru', 'DKI Jakarta-Republik Indonesia', 'West Papua',\n",
       "       'Vokalis Pagar Stadion Teladan', 'bumi', 'Surakarta',\n",
       "       'Solo - Bandung - Jakarta', 'Bogor Barat', 'tegal',\n",
       "       'Medan Tembung', 'Kota Bandar Lampung', 'Sulawesi Tenggara',\n",
       "       'Subang', 'Singkawang ', 'KEBUMEN', 'Cuma Sibuk',\n",
       "       'Indonesia Raya ', 'Old Trafford', 'Denpasar - Bali', 'Pekopon',\n",
       "       'Sumalangka', 'Texas', 'Gosan ', 'Wonosobo', 'Solo',\n",
       "       'Bekasi-Jawa Barat-Indonesia', 'Alepo', 'Gorontalo Indonesia',\n",
       "       'Anyer Banten', 'Bone', '?????? ??????? ????????? ?????',\n",
       "       'Indonesia Raya', 'Palembang ', 'Bogor Utara 2',\n",
       "       'Wonosobo & Jakarta', 'Kota Medan',\n",
       "       'BeautifulcityBandung ind0NEsia', 'Hotel Aston Cirebon',\n",
       "       'Ibukota Priangan', 'kudus', 'Malang Raya', 'Denpasar Timur',\n",
       "       'Banjarmasin Indonesia', 'SMS Only: 081388998480',\n",
       "       'Permukaan Bumi ??', 'Binjai ', 'Bandung-Bengkulu-Purwakarta',\n",
       "       \"World's City of Batik\", 'Medan Kota', 'Denver',\n",
       "       'Sosial Tuit Regional Tangerang', 'Jember Jawa Timur Indonesia',\n",
       "       'Surabaya   ', 'Jalan Emperan', 'North Sumatra', 'Dublin City',\n",
       "       'BSD', 'Region of Khabarovsk', 'Depok.. ', 'DKI JAKARTA ',\n",
       "       '6°LU  \\x96 11°\\xa0LS &\\xa095°\\xa0\\x96 141° BT', 'Ciamis',\n",
       "       'Bekasi-Jakarta-Ciledug', 'gorontalo', 'Cilincing Jakarta Utara',\n",
       "       \"In my family's heart\", 'samarinda', 'Timur Jakarta', ' Jakarta',\n",
       "       'Buncit Indah', '#PrabowoPresidenGerindraMenang', 'ÜT: -6.240485',\n",
       "       '511', 'DKI Jakarta ; Depok', 'makassar',\n",
       "       'Asia Tenggara Negara Indonesia', 'Pulomas - Jakarta',\n",
       "       'jawa barat', 'Simalungun', 'Sepatan - Tangerang',\n",
       "       'Jakarta indonesia', 'Winongan pasuruan jawa timur ', 'Taiwan',\n",
       "       'Klaten', 'Indramayu', 'Japan', 'Hell', '?? @txtfromk', 'sumatera',\n",
       "       'Karawang Timur', 'Kota Padang', 'ÜT: -6.262103',\n",
       "       'Di Bawah Didikan Sang Raja', 'Pt.cubic indonesia',\n",
       "       'kota Pekanbaru', 'hell', 'Palu', 'Ayah', 'semarang Jawa Tengah',\n",
       "       'ÜT: -6.14275', 'IndonesiaNegeriku', 'DKI Jakarta Indonesia',\n",
       "       'Pearland', 'Jakarta Bagian Timur Indonesia', '???? Pancasila',\n",
       "       'Dibumi Allah. ', 'Negara Otoriter ',\n",
       "       'Huntington-Beach California', 'No Place to KADRUN ',\n",
       "       'Nusa Tenggara Timur', 'Kota Kupang', 'GOMBONG BELIK PEMALANG',\n",
       "       'Bukateja', 'Sumatera Utara', 'Bhumi Mataram Merah Putih NKRI',\n",
       "       'jakarta Indonesia', 'Kota Manado', 'Sanggau', 'Blora',\n",
       "       'Kota Banda Aceh', 'South Sumatra', 'Pakistan',\n",
       "       'Balikpapan Tengah', 'Denpasar Barat',\n",
       "       'Indonesia . pematangsiantar', 'Boyolali', 'Merauke Papua',\n",
       "       'Maros', 'Pamekasan', 'Gambir', 'Jayapura ', 'Rawa Belong',\n",
       "       'Liverpool', 'Aku lupa', 'Kota Yogyakarta', 'iKN nusantara ',\n",
       "       'Unknown', 'Konohagakure', 'Cibitung', 'Pasar Rebo',\n",
       "       'Sumatera Selatan', 'Purworejo', 'Bojonegoro',\n",
       "       'e-mail : utamanews@gmail.com', 'Indonesia ????', 'Yogya 9/9/2020',\n",
       "       'Kalimantan Tengah', 'world', 'Tepian Sungai Batanghari',\n",
       "       'Pasar Minggu', 'Pangandaran', 'Tambaksari', 'Tanah Abang',\n",
       "       'Sampit', 'Kebayoran Baru', 'singapore', 'Jabar Indonesia',\n",
       "       'Pondok Aren', 'Gunung Kembar', 'Bojonggede', 'Urip Kuwi Urup',\n",
       "       'Sumatera Selatan ', 'Surabaya ', 'Depok Jawa Barat', 'Cikarang',\n",
       "       'KM50', 'Banyumas', 'Magelang Utara', 'Limerick', '????',\n",
       "       'dalam pelukan dosa', 'Lungguh Teras Nyambi Ngopi',\n",
       "       'Social Media Influencer', 'Pasuruan',\n",
       "       'Desa setiris kecamatan maro se', 'Bekasi Utara', 'NTT',\n",
       "       'Cilacap Jawa tengah indonesia', 'Central Java',\n",
       "       'banjar baru Kalimantan Selatan', 'Jawatimur Indonesia ', 'Cakung',\n",
       "       'Yemen', 'Bantul', 'Blossomville ??', 'Barcelona', 'In ur head',\n",
       "       'Kota Mataram', 'Papua', 'Karanganyar', 'NKRI ???? harga mati !',\n",
       "       'Way Kanan', 'Daerah Istimewa Yogyakarta', 'Tanjung Priok',\n",
       "       'Serpong', 'aguachica - cesar', 'Nusa Tenggara Barat',\n",
       "       'Kabupaten Gowa & Kota Palopo', 'ÜT: 55.753181', '13tweet',\n",
       "       'Kota Kendari', 'Salatiga', 'East Palu', '21tweet',\n",
       "       'Kota Trenggalek Jawa Timur', 'Bengkulu', 'Bangka Belitung',\n",
       "       'Sukoharjo', 'Ciracas', 'Ponorogo', 'Seoul', 'Maluku Utara',\n",
       "       'papua barat', 'Jember', 'Moscow', 'Central Borneo',\n",
       "       'Jambi Selatan', 'kalimantan tengah', 'Ruang Sambat Jalan Ninjaku',\n",
       "       'biawak', 'Palu Barat', 'Kalimantan IKN', 'Balaesang - Donggala',\n",
       "       'kolong langit', 'indo', 'Metro Pusat', 'Jakarta. Indonesia',\n",
       "       'Gorontalo', 'Papua Barat', 'Surga', 'Semarang Tengah', 'Donggala',\n",
       "       'Sleman', 'Planet Earth', 'Cimanggis', 'New York',\n",
       "       'Medan Indonesia', 'Ketapang KalBar Indonesia', 'Nusa Bunga',\n",
       "       'Stuttgart', 'tebing tinggi', 'DKI Jakarta\\n'], dtype=object)"
      ]
     },
     "execution_count": 35,
     "metadata": {},
     "output_type": "execute_result"
    }
   ],
   "source": [
    "gabungan['city'].unique()"
   ]
  }
 ],
 "metadata": {
  "kernelspec": {
   "display_name": "bismillah",
   "language": "python",
   "name": "python3"
  },
  "language_info": {
   "codemirror_mode": {
    "name": "ipython",
    "version": 3
   },
   "file_extension": ".py",
   "mimetype": "text/x-python",
   "name": "python",
   "nbconvert_exporter": "python",
   "pygments_lexer": "ipython3",
   "version": "3.10.13"
  }
 },
 "nbformat": 4,
 "nbformat_minor": 2
}
