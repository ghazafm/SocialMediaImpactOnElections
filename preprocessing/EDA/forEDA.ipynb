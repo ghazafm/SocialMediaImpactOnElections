{
 "cells": [
  {
   "cell_type": "code",
   "execution_count": 60,
   "metadata": {},
   "outputs": [],
   "source": [
    "import pandas as pd\n",
    "import os\n",
    "from nltk.corpus import stopwords"
   ]
  },
  {
   "cell_type": "code",
   "execution_count": 61,
   "metadata": {},
   "outputs": [],
   "source": [
    "df1_temp = pd.read_csv('https://raw.githubusercontent.com/ghazafm/SocialMediaSentiment/main/Datasets/labeled%20data/Anies%20Baswedan.csv',encoding= 'ISO-8859-1')\n",
    "df_anis = pd.read_csv('https://raw.githubusercontent.com/ghazafm/SocialMediaSentiment/main/Datasets/original%20data/Anies%20Baswedan.csv',encoding= 'ISO-8859-1')\n",
    "df2_temp = pd.read_csv('https://raw.githubusercontent.com/ghazafm/SocialMediaSentiment/main/Datasets/labeled%20data/Prabowo%20Subianto.csv',encoding= 'ISO-8859-1')\n",
    "df_prabowo = pd.read_csv('https://raw.githubusercontent.com/ghazafm/SocialMediaSentiment/main/Datasets/original%20data/Prabowo%20Subianto.csv',encoding= 'ISO-8859-1')\n",
    "df3_temp = pd.read_csv('https://raw.githubusercontent.com/ghazafm/SocialMediaSentiment/main/Datasets/labeled%20data/Ganjar%20Pranowo.csv',encoding= 'ISO-8859-1')\n",
    "df_ganjar = pd.read_csv('https://raw.githubusercontent.com/ghazafm/SocialMediaSentiment/main/Datasets/original%20data/Ganjar%20Pranowo.csv',encoding= 'ISO-8859-1')"
   ]
  },
  {
   "cell_type": "code",
   "execution_count": 62,
   "metadata": {},
   "outputs": [],
   "source": [
    "df_anis['label'] = df1_temp['label']\n",
    "df_prabowo['label'] = df2_temp['label']\n",
    "df_ganjar['label'] = df3_temp['label']"
   ]
  },
  {
   "cell_type": "code",
   "execution_count": 63,
   "metadata": {},
   "outputs": [],
   "source": [
    "df_anis = df_anis[['Date','User ID','Tweet Count','Tweet Location','Tweet','label']]\n",
    "df_prabowo = df_prabowo[['Date','User ID','Tweet Count','Tweet Location','Tweet','label']]\n",
    "df_ganjar = df_ganjar[['Date','User ID','Tweet Count','Tweet Location','Tweet','label']]"
   ]
  },
  {
   "cell_type": "code",
   "execution_count": 64,
   "metadata": {},
   "outputs": [],
   "source": [
    "def clean_date(content):\n",
    "    clean = content.split(\" \")\n",
    "    clean = clean[0]\n",
    "    return clean"
   ]
  },
  {
   "cell_type": "code",
   "execution_count": 65,
   "metadata": {},
   "outputs": [],
   "source": [
    "df_anis['Date'] = df_anis['Date'].apply(clean_date)\n",
    "df_prabowo['Date'] = df_prabowo['Date'].apply(clean_date)\n",
    "df_ganjar['Date'] = df_anis['Date'].apply(clean_date)"
   ]
  },
  {
   "cell_type": "code",
   "execution_count": 66,
   "metadata": {},
   "outputs": [],
   "source": [
    "def clean_id(content):\n",
    "    stemmed = str(content)\n",
    "    if 'e' in stemmed:\n",
    "        return None\n",
    "    else:\n",
    "        return stemmed"
   ]
  },
  {
   "cell_type": "code",
   "execution_count": 67,
   "metadata": {},
   "outputs": [],
   "source": [
    "df_anis['User ID'] = df_anis['User ID'].apply(clean_id)\n",
    "df_prabowo['User ID'] = df_prabowo['User ID'].apply(clean_id)\n",
    "df_ganjar['User ID'] = df_anis['User ID'].apply(clean_id)"
   ]
  },
  {
   "cell_type": "code",
   "execution_count": 68,
   "metadata": {},
   "outputs": [
    {
     "name": "stdout",
     "output_type": "stream",
     "text": [
      "<class 'pandas.core.frame.DataFrame'>\n",
      "RangeIndex: 10000 entries, 0 to 9999\n",
      "Data columns (total 6 columns):\n",
      " #   Column          Non-Null Count  Dtype \n",
      "---  ------          --------------  ----- \n",
      " 0   Date            10000 non-null  object\n",
      " 1   User ID         1907 non-null   object\n",
      " 2   Tweet Count     10000 non-null  int64 \n",
      " 3   Tweet Location  4960 non-null   object\n",
      " 4   Tweet           9934 non-null   object\n",
      " 5   label           9997 non-null   object\n",
      "dtypes: int64(1), object(5)\n",
      "memory usage: 468.9+ KB\n"
     ]
    }
   ],
   "source": [
    "df_anis.info()"
   ]
  },
  {
   "cell_type": "code",
   "execution_count": 69,
   "metadata": {},
   "outputs": [],
   "source": [
    "df_anis.dropna(subset=['User ID','Tweet','label'],inplace=True)\n",
    "df_prabowo.dropna(subset=['User ID','Tweet','label'],inplace=True)\n",
    "df_ganjar.dropna(subset=['User ID','Tweet','label'],inplace=True)"
   ]
  },
  {
   "cell_type": "code",
   "execution_count": 70,
   "metadata": {},
   "outputs": [],
   "source": [
    "keyword = ['anis', 'anies', 'baswedan', 'prabowo', 'Subianto', 'ganjar', 'pranowo','presiden','ri']\n",
    "singkatan = ['kalo','ya','gak','pk','nya', 'pa', 'ma', 'amp',\"tp\", \"yg\", \"km\", \"gw\", \"lg\", \"jd\", \"bgt\", \"jg\", \"ga\", \"udh\", \"dr\", \"tdk\", \"dlm\", \"dgn\", \"bs\", \"srg\", \"td\", \"gmn\", \"bkn\", \"skrg\", \"sm\", \"krn\", \"dg\", \"sy\", \"org\", \"emg\", \"hrs\", \"lm\", \"blm\", \"pny\", \"jln\", \"aja\", \"kl\", \"sdh\", \"nntn\", \"tuh\", \"tlg\", \"smua\", \"kmrn\", \"gini\", \"jg\", \"krja\", \"hbs\", \"dri\", \"jdi\", \"lgi\", \"bgtu\", \"ni\", \"sih\", \"lw\", \"mgkn\", \"hri\", \"bner\", \"ngomong\", \"klwrg\", \"gpp\", \"psn\", \"klw\", \"sblm\", \"dpt\", \"bsa\", \"tau\", \"ntr\", \"dpt\", \"nih\", \"bngt\", \"tmn\", \"gt\", \"dnger\", \"pdhl\", \"kn\", \"mksd\", \"tdi\", \"klg\", \"brp\", \"krja\", \"lgsg\", \"psn\", \"yg\", \"syg\", \"knpa\", \"mnrt\", \"msk\", \"psti\", \"cma\", \"gtw\", \"lgkp\", \"dikit\", \"pake\", \"tmn2\", \"bsk\", \"dtg\", \"bilg\", \"hri\", \"smpt\", \"lgkp\", \"trus\", \"byk\", \"dpet\", \"lmyn\", \"slesai\", \"smp\", \"emng\", \"rmai\", \"ssuai\", \"jdwl\", \"smpe\", \"jwb\", \"mksud\", \"ny\", \"byr\", \"bwt\", \"lgsng\", \"mksh\", \"smpai\", \"dd\", \"numpang\", \"kasian\", \"y\", \"biasa\", \"drmh\", \"cr\", \"hehe\", \"dgr\", \"blng\", \"kq\", \"wkt\", \"kyk\", \"lwt\", \"sering2\", \"spt\", \"msih\", \"lk\", \"skt\", \"kmn\", \"taun\", \"sekolh\", \"msalah\", \"dikit\", \"syg\", \"mgkin\", \"slmt\", \"mnt\", \"bwa\", \"pgn\", \"mnding\", \"dk\", \"istg\", \"pulang2\", \"dpt\"]\n",
    "\n",
    "def clean_tweet(content):\n",
    "    clean = content.lower()\n",
    "    clean = clean.split(' ')\n",
    "    clean = [word for word in clean if not word in keyword]\n",
    "    clean = [word for word in clean if not word in keyword]\n",
    "    clean = [word for word in clean if not word in [stopwords.words('indonesian')]]\n",
    "    clean = ' '.join(clean)\n",
    "    return clean\n"
   ]
  },
  {
   "cell_type": "code",
   "execution_count": 71,
   "metadata": {},
   "outputs": [],
   "source": [
    "df_anis['Clean'] = df_anis['Tweet'].apply(clean_tweet)\n",
    "df_prabowo['Clean'] = df_prabowo['Tweet'].apply(clean_tweet)\n",
    "df_ganjar['Clean'] = df_anis['Tweet'].apply(clean_tweet)"
   ]
  },
  {
   "cell_type": "code",
   "execution_count": 72,
   "metadata": {},
   "outputs": [
    {
     "data": {
      "text/html": [
       "<div>\n",
       "<style scoped>\n",
       "    .dataframe tbody tr th:only-of-type {\n",
       "        vertical-align: middle;\n",
       "    }\n",
       "\n",
       "    .dataframe tbody tr th {\n",
       "        vertical-align: top;\n",
       "    }\n",
       "\n",
       "    .dataframe thead th {\n",
       "        text-align: right;\n",
       "    }\n",
       "</style>\n",
       "<table border=\"1\" class=\"dataframe\">\n",
       "  <thead>\n",
       "    <tr style=\"text-align: right;\">\n",
       "      <th></th>\n",
       "      <th>Date</th>\n",
       "      <th>User ID</th>\n",
       "      <th>Tweet Count</th>\n",
       "      <th>Tweet Location</th>\n",
       "      <th>Tweet</th>\n",
       "      <th>label</th>\n",
       "      <th>Clean</th>\n",
       "    </tr>\n",
       "  </thead>\n",
       "  <tbody>\n",
       "    <tr>\n",
       "      <th>1</th>\n",
       "      <td>2023-04-16</td>\n",
       "      <td>771030588.0</td>\n",
       "      <td>30121</td>\n",
       "      <td>Palmerah, Jakarta</td>\n",
       "      <td>politisi partai gerindra sandiaga uno menjawab...</td>\n",
       "      <td>Positive</td>\n",
       "      <td>politisi partai gerindra sandiaga uno menjawab...</td>\n",
       "    </tr>\n",
       "    <tr>\n",
       "      <th>2</th>\n",
       "      <td>2023-04-16</td>\n",
       "      <td>380755133.0</td>\n",
       "      <td>230</td>\n",
       "      <td>Jakarta - Utara</td>\n",
       "      <td>lanjut pak anies kita kawal sampai jadi presiden</td>\n",
       "      <td>Positive</td>\n",
       "      <td>lanjut pak kita kawal sampai jadi</td>\n",
       "    </tr>\n",
       "    <tr>\n",
       "      <th>5</th>\n",
       "      <td>2023-04-16</td>\n",
       "      <td>634227637.0</td>\n",
       "      <td>5297</td>\n",
       "      <td>Jawa Barat, Indonesia</td>\n",
       "      <td>kader pdip jadi presiden yang mana menterinya ...</td>\n",
       "      <td>Negative</td>\n",
       "      <td>kader pdip jadi yang mana menterinya impor pangan</td>\n",
       "    </tr>\n",
       "    <tr>\n",
       "      <th>6</th>\n",
       "      <td>2023-04-16</td>\n",
       "      <td>634227637.0</td>\n",
       "      <td>5297</td>\n",
       "      <td>Jawa Barat, Indonesia</td>\n",
       "      <td>jika tidak ada deklarasi dari partai pendukung...</td>\n",
       "      <td>Positive</td>\n",
       "      <td>jika tidak ada deklarasi dari partai pendukung...</td>\n",
       "    </tr>\n",
       "    <tr>\n",
       "      <th>7</th>\n",
       "      <td>2023-04-16</td>\n",
       "      <td>634227637.0</td>\n",
       "      <td>5297</td>\n",
       "      <td>Jawa Barat, Indonesia</td>\n",
       "      <td>suara rakyat</td>\n",
       "      <td>Positive</td>\n",
       "      <td>suara rakyat</td>\n",
       "    </tr>\n",
       "  </tbody>\n",
       "</table>\n",
       "</div>"
      ],
      "text/plain": [
       "         Date      User ID  Tweet Count         Tweet Location  \\\n",
       "1  2023-04-16  771030588.0        30121      Palmerah, Jakarta   \n",
       "2  2023-04-16  380755133.0          230        Jakarta - Utara   \n",
       "5  2023-04-16  634227637.0         5297  Jawa Barat, Indonesia   \n",
       "6  2023-04-16  634227637.0         5297  Jawa Barat, Indonesia   \n",
       "7  2023-04-16  634227637.0         5297  Jawa Barat, Indonesia   \n",
       "\n",
       "                                               Tweet     label  \\\n",
       "1  politisi partai gerindra sandiaga uno menjawab...  Positive   \n",
       "2   lanjut pak anies kita kawal sampai jadi presiden  Positive   \n",
       "5  kader pdip jadi presiden yang mana menterinya ...  Negative   \n",
       "6  jika tidak ada deklarasi dari partai pendukung...  Positive   \n",
       "7                                       suara rakyat  Positive   \n",
       "\n",
       "                                               Clean  \n",
       "1  politisi partai gerindra sandiaga uno menjawab...  \n",
       "2                  lanjut pak kita kawal sampai jadi  \n",
       "5  kader pdip jadi yang mana menterinya impor pangan  \n",
       "6  jika tidak ada deklarasi dari partai pendukung...  \n",
       "7                                       suara rakyat  "
      ]
     },
     "execution_count": 72,
     "metadata": {},
     "output_type": "execute_result"
    }
   ],
   "source": [
    "df_anis.head()"
   ]
  },
  {
   "cell_type": "code",
   "execution_count": 74,
   "metadata": {},
   "outputs": [],
   "source": [
    "dir = os.getcwd()\n",
    "\n",
    "df_anis.to_csv(f'{dir}/datasets/anis.csv')\n",
    "df_prabowo.to_csv(f'{dir}/datasets/prabowo.csv')\n",
    "df_ganjar.to_csv(f'{dir}/datasets/ganjar.csv')"
   ]
  },
  {
   "cell_type": "code",
   "execution_count": null,
   "metadata": {},
   "outputs": [],
   "source": [
    "gabungan = pd.concat([df_anis,df_prabowo,df_ganjar])\n",
    "gabungan.to_csv(f'{dir}/datasets/gabungan.csv')"
   ]
  }
 ],
 "metadata": {
  "kernelspec": {
   "display_name": "bismillah",
   "language": "python",
   "name": "python3"
  },
  "language_info": {
   "codemirror_mode": {
    "name": "ipython",
    "version": 3
   },
   "file_extension": ".py",
   "mimetype": "text/x-python",
   "name": "python",
   "nbconvert_exporter": "python",
   "pygments_lexer": "ipython3",
   "version": "3.10.13"
  }
 },
 "nbformat": 4,
 "nbformat_minor": 2
}
