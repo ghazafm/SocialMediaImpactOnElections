{
 "cells": [
  {
   "cell_type": "code",
   "execution_count": 1,
   "metadata": {},
   "outputs": [
    {
     "name": "stderr",
     "output_type": "stream",
     "text": [
      "/var/folders/4f/xq7119ld627_2wyd6dkmwl0m0000gn/T/ipykernel_49049/3669787247.py:2: DeprecationWarning: \n",
      "Pyarrow will become a required dependency of pandas in the next major release of pandas (pandas 3.0),\n",
      "(to allow more performant data types, such as the Arrow string type, and better interoperability with other libraries)\n",
      "but was not found to be installed on your system.\n",
      "If this would cause problems for you,\n",
      "please provide us feedback at https://github.com/pandas-dev/pandas/issues/54466\n",
      "        \n",
      "  import pandas as pd\n"
     ]
    }
   ],
   "source": [
    "import pickle\n",
    "import pandas as pd\n",
    "import Funct_modelling"
   ]
  },
  {
   "cell_type": "code",
   "execution_count": 2,
   "metadata": {},
   "outputs": [],
   "source": [
    "df1 = pd.read_csv('../../scraping/result/prabowo/prabowo_mei012023_juni302023.csv')\n",
    "df2 = pd.read_csv('../../scraping/result/prabowo/prabowo_juli012023_agustus312023.csv')\n",
    "df3 = pd.read_csv('../../scraping/result/prabowo/prabowo_september012023_oktober312023.csv')\n",
    "df4 = pd.read_csv('../../scraping/result/prabowo/prabowo_november012023_desember312023.csv')\n",
    "df5 = pd.read_csv('../../scraping/result/prabowo/prabowo_januari012024_februari292024.csv')\n",
    "df_tag = pd.concat([df1,df2,df3,df4,df5])\n",
    "df_untag = pd.concat([df1,df2,df3,df4,df5])"
   ]
  },
  {
   "cell_type": "markdown",
   "metadata": {},
   "source": [
    "# Tag"
   ]
  },
  {
   "cell_type": "code",
   "execution_count": 3,
   "metadata": {},
   "outputs": [],
   "source": [
    "df_tag['created_at'] = df_tag['created_at'].apply(Funct_modelling.extract_date)"
   ]
  },
  {
   "cell_type": "code",
   "execution_count": 4,
   "metadata": {},
   "outputs": [],
   "source": [
    "df_tag = df_tag[['created_at','user_id_str','username','tweet_url','no_tag']]"
   ]
  },
  {
   "cell_type": "code",
   "execution_count": 5,
   "metadata": {},
   "outputs": [],
   "source": [
    "df_tag['Tweet'] = df_tag['no_tag']\n",
    "df_tag.drop('no_tag',axis=1,inplace=True)"
   ]
  },
  {
   "cell_type": "code",
   "execution_count": 6,
   "metadata": {},
   "outputs": [
    {
     "name": "stdout",
     "output_type": "stream",
     "text": [
      "clean_text\n",
      "no_double\n",
      "no_alay\n",
      "pos_tag\n",
      "manual\n",
      "stemming\n",
      "stopwords\n",
      "tokenize\n",
      "remove null\n"
     ]
    }
   ],
   "source": [
    "df_tag = Funct_modelling.clean_text(df_tag,tag=True)"
   ]
  },
  {
   "cell_type": "code",
   "execution_count": 7,
   "metadata": {},
   "outputs": [],
   "source": [
    "df_tag.to_csv('../data/tag/prabowo.csv')"
   ]
  },
  {
   "cell_type": "markdown",
   "metadata": {},
   "source": [
    "# Untag"
   ]
  },
  {
   "cell_type": "code",
   "execution_count": 8,
   "metadata": {},
   "outputs": [],
   "source": [
    "df_untag['created_at'] = df_untag['created_at'].apply(Funct_modelling.extract_date)"
   ]
  },
  {
   "cell_type": "code",
   "execution_count": 9,
   "metadata": {},
   "outputs": [],
   "source": [
    "df_untag = df_untag[['created_at','user_id_str','username','tweet_url','no_tag']]"
   ]
  },
  {
   "cell_type": "code",
   "execution_count": 10,
   "metadata": {},
   "outputs": [],
   "source": [
    "df_untag['Tweet'] = df_untag['no_tag']\n",
    "df_untag.drop('no_tag',axis=1,inplace=True)"
   ]
  },
  {
   "cell_type": "code",
   "execution_count": 11,
   "metadata": {},
   "outputs": [
    {
     "name": "stdout",
     "output_type": "stream",
     "text": [
      "clean_text\n",
      "no_double\n",
      "no_alay\n",
      "manual\n",
      "stemming\n",
      "stopword\n",
      "remove null\n"
     ]
    }
   ],
   "source": [
    "df_untag = Funct_modelling.clean_text(df_untag)"
   ]
  },
  {
   "cell_type": "code",
   "execution_count": 12,
   "metadata": {},
   "outputs": [],
   "source": [
    "df_untag.to_csv('../data/regular/prabowo.csv')"
   ]
  }
 ],
 "metadata": {
  "kernelspec": {
   "display_name": "bismillah",
   "language": "python",
   "name": "python3"
  },
  "language_info": {
   "codemirror_mode": {
    "name": "ipython",
    "version": 3
   },
   "file_extension": ".py",
   "mimetype": "text/x-python",
   "name": "python",
   "nbconvert_exporter": "python",
   "pygments_lexer": "ipython3",
   "version": "3.10.13"
  }
 },
 "nbformat": 4,
 "nbformat_minor": 2
}
