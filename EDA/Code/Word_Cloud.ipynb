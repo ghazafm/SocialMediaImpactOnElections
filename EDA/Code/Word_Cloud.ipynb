{
 "cells": [
  {
   "cell_type": "code",
   "execution_count": 4,
   "metadata": {},
   "outputs": [
    {
     "name": "stderr",
     "output_type": "stream",
     "text": [
      "[nltk_data] Downloading package stopwords to C:\\Users\\Fatoni Murfid\n",
      "[nltk_data]     S\\AppData\\Roaming\\nltk_data...\n",
      "[nltk_data]   Package stopwords is already up-to-date!\n"
     ]
    }
   ],
   "source": [
    "import matplotlib.pyplot as plt \n",
    "from wordcloud import WordCloud, STOPWORDS\n",
    "from nltk.corpus import stopwords\n",
    "import nltk\n",
    "nltk.download('stopwords')\n",
    "stop_w = set(STOPWORDS)"
   ]
  },
  {
   "cell_type": "code",
   "execution_count": 6,
   "metadata": {},
   "outputs": [
    {
     "name": "stdout",
     "output_type": "stream",
     "text": [
      "{'she', \"we'd\", 'then', \"i'd\", 'from', \"shouldn't\", 'there', 'again', 'does', 'who', 'whom', 'any', 'why', 'here', 'an', 'in', 'with', 'having', \"we've\", 'just', 'doing', 'could', 'it', 'him', 'against', 'so', \"why's\", 'com', 'he', 'have', \"i've\", 'yourself', 'like', 'am', 'or', 'up', 'other', 'ourselves', \"they've\", \"you'd\", \"we're\", 'had', \"wouldn't\", \"hasn't\", 'else', 'each', 'that', 'during', 'shall', 'this', 'being', 'also', 'few', \"he'd\", 'below', 'for', 'are', \"weren't\", \"aren't\", 'itself', 'them', 'above', 'since', 'all', 'did', 'which', 'no', 'and', 'when', \"you've\", 'was', 'under', 'yourselves', 'as', \"he's\", 'on', \"mustn't\", 'should', \"doesn't\", \"i'm\", \"that's\", 'very', 'what', 'ever', 'further', \"what's\", \"couldn't\", 'himself', 'some', 'these', 'until', \"can't\", \"you'll\", 'their', \"didn't\", 'but', 'has', 'own', 'same', \"wasn't\", 'cannot', \"here's\", 'ought', 'how', 'once', 'over', 'me', 'hence', 'otherwise', \"let's\", 'nor', \"who's\", \"it's\", 'both', 'your', 'off', \"they're\", \"hadn't\", 'not', 'ours', 'its', 'herself', 'more', 'get', 'down', \"she's\", 'be', 'therefore', \"haven't\", \"isn't\", 'through', 'between', \"how's\", 'because', 'my', \"shan't\", 'while', 'after', 'were', 'would', 'about', \"they'll\", 'his', 'a', 'can', 'http', 'of', 'hers', \"i'll\", 'before', 'most', 'the', 'too', \"we'll\", \"won't\", 'by', 'out', \"she'd\", 'yours', 'is', 'into', 'her', 'you', \"don't\", 'at', 'where', 'than', 'we', \"they'd\", \"you're\", 'only', 'www', 'they', 'those', \"where's\", 'if', 'themselves', \"he'll\", \"she'll\", \"when's\", 'such', 'k', 'theirs', 'however', 'our', 'i', 'myself', \"there's\", 'been', 'r', 'to', 'do'}\n",
      "['i', 'me', 'my', 'myself', 'we', 'our', 'ours', 'ourselves', 'you', \"you're\", \"you've\", \"you'll\", \"you'd\", 'your', 'yours', 'yourself', 'yourselves', 'he', 'him', 'his', 'himself', 'she', \"she's\", 'her', 'hers', 'herself', 'it', \"it's\", 'its', 'itself', 'they', 'them', 'their', 'theirs', 'themselves', 'what', 'which', 'who', 'whom', 'this', 'that', \"that'll\", 'these', 'those', 'am', 'is', 'are', 'was', 'were', 'be', 'been', 'being', 'have', 'has', 'had', 'having', 'do', 'does', 'did', 'doing', 'a', 'an', 'the', 'and', 'but', 'if', 'or', 'because', 'as', 'until', 'while', 'of', 'at', 'by', 'for', 'with', 'about', 'against', 'between', 'into', 'through', 'during', 'before', 'after', 'above', 'below', 'to', 'from', 'up', 'down', 'in', 'out', 'on', 'off', 'over', 'under', 'again', 'further', 'then', 'once', 'here', 'there', 'when', 'where', 'why', 'how', 'all', 'any', 'both', 'each', 'few', 'more', 'most', 'other', 'some', 'such', 'no', 'nor', 'not', 'only', 'own', 'same', 'so', 'than', 'too', 'very', 's', 't', 'can', 'will', 'just', 'don', \"don't\", 'should', \"should've\", 'now', 'd', 'll', 'm', 'o', 're', 've', 'y', 'ain', 'aren', \"aren't\", 'couldn', \"couldn't\", 'didn', \"didn't\", 'doesn', \"doesn't\", 'hadn', \"hadn't\", 'hasn', \"hasn't\", 'haven', \"haven't\", 'isn', \"isn't\", 'ma', 'mightn', \"mightn't\", 'mustn', \"mustn't\", 'needn', \"needn't\", 'shan', \"shan't\", 'shouldn', \"shouldn't\", 'wasn', \"wasn't\", 'weren', \"weren't\", 'won', \"won't\", 'wouldn', \"wouldn't\"]\n"
     ]
    }
   ],
   "source": [
    "print(stop_w)\n",
    "print(stopwords.words('english'))"
   ]
  }
 ],
 "metadata": {
  "kernelspec": {
   "display_name": "Python 3",
   "language": "python",
   "name": "python3"
  },
  "language_info": {
   "codemirror_mode": {
    "name": "ipython",
    "version": 3
   },
   "file_extension": ".py",
   "mimetype": "text/x-python",
   "name": "python",
   "nbconvert_exporter": "python",
   "pygments_lexer": "ipython3",
   "version": "3.11.8"
  },
  "orig_nbformat": 4
 },
 "nbformat": 4,
 "nbformat_minor": 2
}
