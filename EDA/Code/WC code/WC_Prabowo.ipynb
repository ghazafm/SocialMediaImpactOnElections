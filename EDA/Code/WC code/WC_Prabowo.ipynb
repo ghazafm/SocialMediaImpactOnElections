{
 "cells": [
  {
   "cell_type": "code",
   "execution_count": null,
   "metadata": {},
   "outputs": [],
   "source": [
    "import pandas as pd \n",
    "columns = ['No','word']\n",
    "df_n = pd.read_csv('https://raw.githubusercontent.com/ghazafm/SocialMediaSentiment/main/preprocessing/EDA/word_cloud/prabowo/negative.csv', names=columns)\n",
    "# df_n['User ID'].dropna(axis=0, inplace=True)"
   ]
  },
  {
   "cell_type": "code",
   "execution_count": null,
   "metadata": {},
   "outputs": [],
   "source": [
    "df_n.dropna(axis=0, inplace=True)\n",
    "df_n.isna().sum()"
   ]
  },
  {
   "cell_type": "code",
   "execution_count": null,
   "metadata": {},
   "outputs": [],
   "source": [
    "df_n['word'] = df_n['word'].astype(str)\n",
    "result = \"\"\n",
    "for text in df_n['word']:\n",
    "    result += text + \" \"\n",
    "print(result)"
   ]
  },
  {
   "cell_type": "code",
   "execution_count": null,
   "metadata": {},
   "outputs": [],
   "source": [
    "import matplotlib.pyplot as plt \n",
    "from wordcloud import WordCloud\n",
    "wc = WordCloud(background_color=\"white\", max_words=50).generate(result)\n",
    "wc.to_file(\"prabowo_n.png\")"
   ]
  },
  {
   "cell_type": "code",
   "execution_count": null,
   "metadata": {},
   "outputs": [],
   "source": [
    "import pandas as pd \n",
    "columns = ['No','word']\n",
    "df_p = pd.read_csv('https://raw.githubusercontent.com/ghazafm/SocialMediaSentiment/main/preprocessing/EDA/word_cloud/prabowo/positive.csv', names=columns)\n",
    "# df_cl['User ID'].dropna(axis=0, inplace=True)"
   ]
  },
  {
   "cell_type": "code",
   "execution_count": null,
   "metadata": {},
   "outputs": [],
   "source": [
    "df_p.dropna(axis=0, inplace=True)\n",
    "df_p.isna().sum()"
   ]
  },
  {
   "cell_type": "code",
   "execution_count": null,
   "metadata": {},
   "outputs": [],
   "source": [
    "df_p['word'] = df_p['word'].astype(str)\n",
    "result = \"\"\n",
    "for text in df_p['word']:\n",
    "    result += text + \" \"\n",
    "print(result)"
   ]
  },
  {
   "cell_type": "code",
   "execution_count": null,
   "metadata": {},
   "outputs": [],
   "source": [
    "import matplotlib.pyplot as plt \n",
    "from wordcloud import WordCloud\n",
    "wc = WordCloud(background_color=\"white\", max_words=50).generate(result)\n",
    "wc.to_file(\"prabowo_p.png\")"
   ]
  }
 ],
 "metadata": {
  "kernelspec": {
   "display_name": "Python 3",
   "language": "python",
   "name": "python3"
  },
  "language_info": {
   "codemirror_mode": {
    "name": "ipython",
    "version": 3
   },
   "file_extension": ".py",
   "mimetype": "text/x-python",
   "name": "python",
   "nbconvert_exporter": "python",
   "pygments_lexer": "ipython3",
   "version": "3.11.8"
  },
  "orig_nbformat": 4
 },
 "nbformat": 4,
 "nbformat_minor": 2
}
